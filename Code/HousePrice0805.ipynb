{
 "cells": [
  {
   "cell_type": "code",
   "execution_count": 5,
   "id": "5654999d-a6a4-4abd-982a-6adb9c5cf82b",
   "metadata": {
    "ExecuteTime": {
     "end_time": "2022-08-05T21:29:55.520942Z",
     "start_time": "2022-08-05T21:29:53.079101Z"
    }
   },
   "outputs": [],
   "source": [
    "## import modules need \n",
    "import pandas as pd \n",
    "import numpy as np \n",
    "import matplotlib.pyplot as plt \n",
    "import seaborn as sns \n",
    "from sklearn.model_selection import train_test_split as tts \n",
    "from  sklearn.preprocessing import StandardScaler, OrdinalEncoder, LabelEncoder,OrdinalEncoder,OneHotEncoder \n",
    "from sklearn.linear_model import LinearRegression, Lasso, Ridge\n",
    "from sklearn.ensemble import GradientBoostingRegressor, RandomForestRegressor \n",
    "from xgboost import XGBRegressor  \n",
    "from sklearn.model_selection import cross_val_score,GridSearchCV\n",
    "import warnings\n",
    "warnings.filterwarnings(\"ignore\")"
   ]
  },
  {
   "cell_type": "markdown",
   "id": "77c94da1",
   "metadata": {},
   "source": [
    "## Import Data "
   ]
  },
  {
   "cell_type": "code",
   "execution_count": 6,
   "id": "b36c842a-b9d1-43ec-a763-cece3d8cc15b",
   "metadata": {
    "ExecuteTime": {
     "end_time": "2022-08-05T21:29:56.175836Z",
     "start_time": "2022-08-05T21:29:56.119726Z"
    }
   },
   "outputs": [],
   "source": [
    "# import data  \n",
    "train = 'train.csv' \n",
    "test = 'test.csv'\n",
    "data_train = pd.read_csv(train) \n",
    "data_test = pd.read_csv(test)  \n"
   ]
  },
  {
   "cell_type": "code",
   "execution_count": 7,
   "id": "dd9a3df4-6494-4644-b9f2-5a061c5efdc0",
   "metadata": {
    "ExecuteTime": {
     "end_time": "2022-08-05T21:29:56.480006Z",
     "start_time": "2022-08-05T21:29:56.475290Z"
    }
   },
   "outputs": [
    {
     "name": "stdout",
     "output_type": "stream",
     "text": [
      "the number of features in the train set is 81.\n",
      "\n",
      "\n",
      "the number of features in the test set is 80.\n"
     ]
    }
   ],
   "source": [
    "# shape for train set and test set \n",
    "# we have 81 features in the train set & 1460 samples \n",
    "#80 features in the test set \n",
    "print('the number of features in the train set is {}.'.format(data_train.shape[1])) \n",
    "print('\\n') \n",
    "print('the number of features in the test set is {}.'.format(data_test.shape[1])) "
   ]
  },
  {
   "cell_type": "code",
   "execution_count": 9,
   "id": "ec4f2df2-b76e-400e-89bb-a8dbe4cc0ad8",
   "metadata": {
    "ExecuteTime": {
     "end_time": "2022-08-05T21:29:57.485902Z",
     "start_time": "2022-08-05T21:29:57.478612Z"
    }
   },
   "outputs": [
    {
     "data": {
      "text/plain": [
       "True"
      ]
     },
     "execution_count": 9,
     "metadata": {},
     "output_type": "execute_result"
    }
   ],
   "source": [
    "#Let's check if the features in two data sets are the same. \n",
    "data_train.columns.tolist()[:-1] ==  data_test.columns.tolist() "
   ]
  },
  {
   "cell_type": "markdown",
   "id": "a8bbe61f-e4b8-4152-b19b-de5a38fe2b82",
   "metadata": {},
   "source": [
    "## Look at Data "
   ]
  },
  {
   "cell_type": "code",
   "execution_count": 5,
   "id": "0384b2dd-fead-435c-b834-e1641d0e9f61",
   "metadata": {
    "ExecuteTime": {
     "end_time": "2022-08-05T21:29:58.335615Z",
     "start_time": "2022-08-05T21:29:58.184031Z"
    }
   },
   "outputs": [
    {
     "data": {
      "text/html": [
       "<style  type=\"text/css\" >\n",
       "#T_1a6d8_row0_col0,#T_1a6d8_row0_col4,#T_1a6d8_row0_col18,#T_1a6d8_row0_col36,#T_1a6d8_row0_col37,#T_1a6d8_row0_col43,#T_1a6d8_row0_col45,#T_1a6d8_row0_col48,#T_1a6d8_row0_col51,#T_1a6d8_row0_col52,#T_1a6d8_row0_col56,#T_1a6d8_row0_col61,#T_1a6d8_row0_col66,#T_1a6d8_row0_col68,#T_1a6d8_row0_col69,#T_1a6d8_row0_col70,#T_1a6d8_row0_col71,#T_1a6d8_row0_col75,#T_1a6d8_row0_col76,#T_1a6d8_row1_col1,#T_1a6d8_row1_col17,#T_1a6d8_row1_col26,#T_1a6d8_row1_col36,#T_1a6d8_row1_col44,#T_1a6d8_row1_col45,#T_1a6d8_row1_col46,#T_1a6d8_row1_col47,#T_1a6d8_row1_col50,#T_1a6d8_row1_col51,#T_1a6d8_row1_col52,#T_1a6d8_row1_col54,#T_1a6d8_row1_col59,#T_1a6d8_row1_col61,#T_1a6d8_row1_col62,#T_1a6d8_row1_col67,#T_1a6d8_row1_col68,#T_1a6d8_row1_col69,#T_1a6d8_row1_col70,#T_1a6d8_row1_col71,#T_1a6d8_row1_col75,#T_1a6d8_row2_col18,#T_1a6d8_row2_col36,#T_1a6d8_row2_col45,#T_1a6d8_row2_col48,#T_1a6d8_row2_col51,#T_1a6d8_row2_col52,#T_1a6d8_row2_col54,#T_1a6d8_row2_col61,#T_1a6d8_row2_col66,#T_1a6d8_row2_col68,#T_1a6d8_row2_col69,#T_1a6d8_row2_col70,#T_1a6d8_row2_col71,#T_1a6d8_row2_col75,#T_1a6d8_row3_col3,#T_1a6d8_row3_col18,#T_1a6d8_row3_col19,#T_1a6d8_row3_col20,#T_1a6d8_row3_col26,#T_1a6d8_row3_col34,#T_1a6d8_row3_col36,#T_1a6d8_row3_col38,#T_1a6d8_row3_col45,#T_1a6d8_row3_col48,#T_1a6d8_row3_col49,#T_1a6d8_row3_col50,#T_1a6d8_row3_col51,#T_1a6d8_row3_col52,#T_1a6d8_row3_col66,#T_1a6d8_row3_col69,#T_1a6d8_row3_col70,#T_1a6d8_row3_col71,#T_1a6d8_row3_col75,#T_1a6d8_row3_col76,#T_1a6d8_row3_col77,#T_1a6d8_row3_col80,#T_1a6d8_row4_col18,#T_1a6d8_row4_col36,#T_1a6d8_row4_col45,#T_1a6d8_row4_col48,#T_1a6d8_row4_col52,#T_1a6d8_row4_col68,#T_1a6d8_row4_col69,#T_1a6d8_row4_col70,#T_1a6d8_row4_col71,#T_1a6d8_row4_col75{\n",
       "            background-color:  #440154;\n",
       "            color:  #f1f1f1;\n",
       "        }#T_1a6d8_row0_col1,#T_1a6d8_row2_col1,#T_1a6d8_row4_col1{\n",
       "            background-color:  #7ad151;\n",
       "            color:  #000000;\n",
       "        }#T_1a6d8_row0_col3{\n",
       "            background-color:  #404688;\n",
       "            color:  #f1f1f1;\n",
       "        }#T_1a6d8_row0_col17,#T_1a6d8_row1_col77,#T_1a6d8_row2_col0,#T_1a6d8_row2_col17,#T_1a6d8_row2_col67,#T_1a6d8_row3_col17{\n",
       "            background-color:  #21918c;\n",
       "            color:  #000000;\n",
       "        }#T_1a6d8_row0_col19,#T_1a6d8_row0_col20,#T_1a6d8_row0_col47,#T_1a6d8_row0_col49,#T_1a6d8_row0_col50,#T_1a6d8_row0_col59,#T_1a6d8_row0_col77,#T_1a6d8_row1_col18,#T_1a6d8_row1_col34,#T_1a6d8_row1_col38,#T_1a6d8_row1_col43,#T_1a6d8_row1_col48,#T_1a6d8_row1_col49,#T_1a6d8_row1_col56,#T_1a6d8_row1_col66,#T_1a6d8_row2_col47,#T_1a6d8_row2_col49,#T_1a6d8_row2_col50,#T_1a6d8_row2_col56,#T_1a6d8_row2_col77,#T_1a6d8_row3_col1,#T_1a6d8_row3_col37,#T_1a6d8_row3_col47,#T_1a6d8_row3_col56,#T_1a6d8_row3_col61,#T_1a6d8_row3_col68,#T_1a6d8_row4_col0,#T_1a6d8_row4_col3,#T_1a6d8_row4_col4,#T_1a6d8_row4_col17,#T_1a6d8_row4_col26,#T_1a6d8_row4_col44,#T_1a6d8_row4_col46,#T_1a6d8_row4_col47,#T_1a6d8_row4_col49,#T_1a6d8_row4_col50,#T_1a6d8_row4_col51,#T_1a6d8_row4_col54,#T_1a6d8_row4_col56,#T_1a6d8_row4_col61,#T_1a6d8_row4_col62,#T_1a6d8_row4_col67,#T_1a6d8_row4_col76,#T_1a6d8_row4_col77,#T_1a6d8_row4_col80{\n",
       "            background-color:  #fde725;\n",
       "            color:  #000000;\n",
       "        }#T_1a6d8_row0_col26,#T_1a6d8_row2_col46{\n",
       "            background-color:  #1f9f88;\n",
       "            color:  #000000;\n",
       "        }#T_1a6d8_row0_col34,#T_1a6d8_row4_col66{\n",
       "            background-color:  #2db27d;\n",
       "            color:  #000000;\n",
       "        }#T_1a6d8_row0_col38,#T_1a6d8_row1_col4{\n",
       "            background-color:  #414287;\n",
       "            color:  #f1f1f1;\n",
       "        }#T_1a6d8_row0_col44{\n",
       "            background-color:  #81d34d;\n",
       "            color:  #000000;\n",
       "        }#T_1a6d8_row0_col46{\n",
       "            background-color:  #228b8d;\n",
       "            color:  #000000;\n",
       "        }#T_1a6d8_row0_col54{\n",
       "            background-color:  #35b779;\n",
       "            color:  #000000;\n",
       "        }#T_1a6d8_row0_col62{\n",
       "            background-color:  #3d4d8a;\n",
       "            color:  #f1f1f1;\n",
       "        }#T_1a6d8_row0_col67{\n",
       "            background-color:  #50c46a;\n",
       "            color:  #000000;\n",
       "        }#T_1a6d8_row0_col80{\n",
       "            background-color:  #27ad81;\n",
       "            color:  #000000;\n",
       "        }#T_1a6d8_row1_col0{\n",
       "            background-color:  #3b528b;\n",
       "            color:  #f1f1f1;\n",
       "        }#T_1a6d8_row1_col3{\n",
       "            background-color:  #90d743;\n",
       "            color:  #000000;\n",
       "        }#T_1a6d8_row1_col19{\n",
       "            background-color:  #40bd72;\n",
       "            color:  #000000;\n",
       "        }#T_1a6d8_row1_col20{\n",
       "            background-color:  #433e85;\n",
       "            color:  #f1f1f1;\n",
       "        }#T_1a6d8_row1_col37{\n",
       "            background-color:  #306a8e;\n",
       "            color:  #f1f1f1;\n",
       "        }#T_1a6d8_row1_col76{\n",
       "            background-color:  #355f8d;\n",
       "            color:  #f1f1f1;\n",
       "        }#T_1a6d8_row1_col80{\n",
       "            background-color:  #2c728e;\n",
       "            color:  #f1f1f1;\n",
       "        }#T_1a6d8_row2_col3,#T_1a6d8_row3_col54{\n",
       "            background-color:  #31688e;\n",
       "            color:  #f1f1f1;\n",
       "        }#T_1a6d8_row2_col4,#T_1a6d8_row3_col62{\n",
       "            background-color:  #228c8d;\n",
       "            color:  #000000;\n",
       "        }#T_1a6d8_row2_col19{\n",
       "            background-color:  #f1e51d;\n",
       "            color:  #000000;\n",
       "        }#T_1a6d8_row2_col20{\n",
       "            background-color:  #ece51b;\n",
       "            color:  #000000;\n",
       "        }#T_1a6d8_row2_col26{\n",
       "            background-color:  #24878e;\n",
       "            color:  #000000;\n",
       "        }#T_1a6d8_row2_col34{\n",
       "            background-color:  #2e6d8e;\n",
       "            color:  #f1f1f1;\n",
       "        }#T_1a6d8_row2_col37{\n",
       "            background-color:  #52c569;\n",
       "            color:  #000000;\n",
       "        }#T_1a6d8_row2_col38{\n",
       "            background-color:  #32658e;\n",
       "            color:  #f1f1f1;\n",
       "        }#T_1a6d8_row2_col43{\n",
       "            background-color:  #453781;\n",
       "            color:  #f1f1f1;\n",
       "        }#T_1a6d8_row2_col44{\n",
       "            background-color:  #89d548;\n",
       "            color:  #000000;\n",
       "        }#T_1a6d8_row2_col59{\n",
       "            background-color:  #d0e11c;\n",
       "            color:  #000000;\n",
       "        }#T_1a6d8_row2_col62{\n",
       "            background-color:  #2a768e;\n",
       "            color:  #f1f1f1;\n",
       "        }#T_1a6d8_row2_col76{\n",
       "            background-color:  #44bf70;\n",
       "            color:  #000000;\n",
       "        }#T_1a6d8_row2_col80{\n",
       "            background-color:  #63cb5f;\n",
       "            color:  #000000;\n",
       "        }#T_1a6d8_row3_col0{\n",
       "            background-color:  #5ec962;\n",
       "            color:  #000000;\n",
       "        }#T_1a6d8_row3_col4{\n",
       "            background-color:  #424086;\n",
       "            color:  #f1f1f1;\n",
       "        }#T_1a6d8_row3_col43{\n",
       "            background-color:  #3a548c;\n",
       "            color:  #f1f1f1;\n",
       "        }#T_1a6d8_row3_col44{\n",
       "            background-color:  #4cc26c;\n",
       "            color:  #000000;\n",
       "        }#T_1a6d8_row3_col46{\n",
       "            background-color:  #228d8d;\n",
       "            color:  #000000;\n",
       "        }#T_1a6d8_row3_col59{\n",
       "            background-color:  #84d44b;\n",
       "            color:  #000000;\n",
       "        }#T_1a6d8_row3_col67{\n",
       "            background-color:  #287c8e;\n",
       "            color:  #000000;\n",
       "        }#T_1a6d8_row4_col19{\n",
       "            background-color:  #eae51a;\n",
       "            color:  #000000;\n",
       "        }#T_1a6d8_row4_col20{\n",
       "            background-color:  #c2df23;\n",
       "            color:  #000000;\n",
       "        }#T_1a6d8_row4_col34{\n",
       "            background-color:  #1fa287;\n",
       "            color:  #000000;\n",
       "        }#T_1a6d8_row4_col37{\n",
       "            background-color:  #aadc32;\n",
       "            color:  #000000;\n",
       "        }#T_1a6d8_row4_col38{\n",
       "            background-color:  #67cc5c;\n",
       "            color:  #000000;\n",
       "        }#T_1a6d8_row4_col43{\n",
       "            background-color:  #4ac16d;\n",
       "            color:  #000000;\n",
       "        }#T_1a6d8_row4_col59{\n",
       "            background-color:  #b5de2b;\n",
       "            color:  #000000;\n",
       "        }</style><table id=\"T_1a6d8_\" ><thead>    <tr>        <th class=\"blank level0\" ></th>        <th class=\"col_heading level0 col0\" >Id</th>        <th class=\"col_heading level0 col1\" >MSSubClass</th>        <th class=\"col_heading level0 col2\" >MSZoning</th>        <th class=\"col_heading level0 col3\" >LotFrontage</th>        <th class=\"col_heading level0 col4\" >LotArea</th>        <th class=\"col_heading level0 col5\" >Street</th>        <th class=\"col_heading level0 col6\" >Alley</th>        <th class=\"col_heading level0 col7\" >LotShape</th>        <th class=\"col_heading level0 col8\" >LandContour</th>        <th class=\"col_heading level0 col9\" >Utilities</th>        <th class=\"col_heading level0 col10\" >LotConfig</th>        <th class=\"col_heading level0 col11\" >LandSlope</th>        <th class=\"col_heading level0 col12\" >Neighborhood</th>        <th class=\"col_heading level0 col13\" >Condition1</th>        <th class=\"col_heading level0 col14\" >Condition2</th>        <th class=\"col_heading level0 col15\" >BldgType</th>        <th class=\"col_heading level0 col16\" >HouseStyle</th>        <th class=\"col_heading level0 col17\" >OverallQual</th>        <th class=\"col_heading level0 col18\" >OverallCond</th>        <th class=\"col_heading level0 col19\" >YearBuilt</th>        <th class=\"col_heading level0 col20\" >YearRemodAdd</th>        <th class=\"col_heading level0 col21\" >RoofStyle</th>        <th class=\"col_heading level0 col22\" >RoofMatl</th>        <th class=\"col_heading level0 col23\" >Exterior1st</th>        <th class=\"col_heading level0 col24\" >Exterior2nd</th>        <th class=\"col_heading level0 col25\" >MasVnrType</th>        <th class=\"col_heading level0 col26\" >MasVnrArea</th>        <th class=\"col_heading level0 col27\" >ExterQual</th>        <th class=\"col_heading level0 col28\" >ExterCond</th>        <th class=\"col_heading level0 col29\" >Foundation</th>        <th class=\"col_heading level0 col30\" >BsmtQual</th>        <th class=\"col_heading level0 col31\" >BsmtCond</th>        <th class=\"col_heading level0 col32\" >BsmtExposure</th>        <th class=\"col_heading level0 col33\" >BsmtFinType1</th>        <th class=\"col_heading level0 col34\" >BsmtFinSF1</th>        <th class=\"col_heading level0 col35\" >BsmtFinType2</th>        <th class=\"col_heading level0 col36\" >BsmtFinSF2</th>        <th class=\"col_heading level0 col37\" >BsmtUnfSF</th>        <th class=\"col_heading level0 col38\" >TotalBsmtSF</th>        <th class=\"col_heading level0 col39\" >Heating</th>        <th class=\"col_heading level0 col40\" >HeatingQC</th>        <th class=\"col_heading level0 col41\" >CentralAir</th>        <th class=\"col_heading level0 col42\" >Electrical</th>        <th class=\"col_heading level0 col43\" >1stFlrSF</th>        <th class=\"col_heading level0 col44\" >2ndFlrSF</th>        <th class=\"col_heading level0 col45\" >LowQualFinSF</th>        <th class=\"col_heading level0 col46\" >GrLivArea</th>        <th class=\"col_heading level0 col47\" >BsmtFullBath</th>        <th class=\"col_heading level0 col48\" >BsmtHalfBath</th>        <th class=\"col_heading level0 col49\" >FullBath</th>        <th class=\"col_heading level0 col50\" >HalfBath</th>        <th class=\"col_heading level0 col51\" >BedroomAbvGr</th>        <th class=\"col_heading level0 col52\" >KitchenAbvGr</th>        <th class=\"col_heading level0 col53\" >KitchenQual</th>        <th class=\"col_heading level0 col54\" >TotRmsAbvGrd</th>        <th class=\"col_heading level0 col55\" >Functional</th>        <th class=\"col_heading level0 col56\" >Fireplaces</th>        <th class=\"col_heading level0 col57\" >FireplaceQu</th>        <th class=\"col_heading level0 col58\" >GarageType</th>        <th class=\"col_heading level0 col59\" >GarageYrBlt</th>        <th class=\"col_heading level0 col60\" >GarageFinish</th>        <th class=\"col_heading level0 col61\" >GarageCars</th>        <th class=\"col_heading level0 col62\" >GarageArea</th>        <th class=\"col_heading level0 col63\" >GarageQual</th>        <th class=\"col_heading level0 col64\" >GarageCond</th>        <th class=\"col_heading level0 col65\" >PavedDrive</th>        <th class=\"col_heading level0 col66\" >WoodDeckSF</th>        <th class=\"col_heading level0 col67\" >OpenPorchSF</th>        <th class=\"col_heading level0 col68\" >EnclosedPorch</th>        <th class=\"col_heading level0 col69\" >3SsnPorch</th>        <th class=\"col_heading level0 col70\" >ScreenPorch</th>        <th class=\"col_heading level0 col71\" >PoolArea</th>        <th class=\"col_heading level0 col72\" >PoolQC</th>        <th class=\"col_heading level0 col73\" >Fence</th>        <th class=\"col_heading level0 col74\" >MiscFeature</th>        <th class=\"col_heading level0 col75\" >MiscVal</th>        <th class=\"col_heading level0 col76\" >MoSold</th>        <th class=\"col_heading level0 col77\" >YrSold</th>        <th class=\"col_heading level0 col78\" >SaleType</th>        <th class=\"col_heading level0 col79\" >SaleCondition</th>        <th class=\"col_heading level0 col80\" >SalePrice</th>    </tr></thead><tbody>\n",
       "                <tr>\n",
       "                        <th id=\"T_1a6d8_level0_row0\" class=\"row_heading level0 row0\" >0</th>\n",
       "                        <td id=\"T_1a6d8_row0_col0\" class=\"data row0 col0\" >1</td>\n",
       "                        <td id=\"T_1a6d8_row0_col1\" class=\"data row0 col1\" >60</td>\n",
       "                        <td id=\"T_1a6d8_row0_col2\" class=\"data row0 col2\" >RL</td>\n",
       "                        <td id=\"T_1a6d8_row0_col3\" class=\"data row0 col3\" >65.000000</td>\n",
       "                        <td id=\"T_1a6d8_row0_col4\" class=\"data row0 col4\" >8450</td>\n",
       "                        <td id=\"T_1a6d8_row0_col5\" class=\"data row0 col5\" >Pave</td>\n",
       "                        <td id=\"T_1a6d8_row0_col6\" class=\"data row0 col6\" >nan</td>\n",
       "                        <td id=\"T_1a6d8_row0_col7\" class=\"data row0 col7\" >Reg</td>\n",
       "                        <td id=\"T_1a6d8_row0_col8\" class=\"data row0 col8\" >Lvl</td>\n",
       "                        <td id=\"T_1a6d8_row0_col9\" class=\"data row0 col9\" >AllPub</td>\n",
       "                        <td id=\"T_1a6d8_row0_col10\" class=\"data row0 col10\" >Inside</td>\n",
       "                        <td id=\"T_1a6d8_row0_col11\" class=\"data row0 col11\" >Gtl</td>\n",
       "                        <td id=\"T_1a6d8_row0_col12\" class=\"data row0 col12\" >CollgCr</td>\n",
       "                        <td id=\"T_1a6d8_row0_col13\" class=\"data row0 col13\" >Norm</td>\n",
       "                        <td id=\"T_1a6d8_row0_col14\" class=\"data row0 col14\" >Norm</td>\n",
       "                        <td id=\"T_1a6d8_row0_col15\" class=\"data row0 col15\" >1Fam</td>\n",
       "                        <td id=\"T_1a6d8_row0_col16\" class=\"data row0 col16\" >2Story</td>\n",
       "                        <td id=\"T_1a6d8_row0_col17\" class=\"data row0 col17\" >7</td>\n",
       "                        <td id=\"T_1a6d8_row0_col18\" class=\"data row0 col18\" >5</td>\n",
       "                        <td id=\"T_1a6d8_row0_col19\" class=\"data row0 col19\" >2003</td>\n",
       "                        <td id=\"T_1a6d8_row0_col20\" class=\"data row0 col20\" >2003</td>\n",
       "                        <td id=\"T_1a6d8_row0_col21\" class=\"data row0 col21\" >Gable</td>\n",
       "                        <td id=\"T_1a6d8_row0_col22\" class=\"data row0 col22\" >CompShg</td>\n",
       "                        <td id=\"T_1a6d8_row0_col23\" class=\"data row0 col23\" >VinylSd</td>\n",
       "                        <td id=\"T_1a6d8_row0_col24\" class=\"data row0 col24\" >VinylSd</td>\n",
       "                        <td id=\"T_1a6d8_row0_col25\" class=\"data row0 col25\" >BrkFace</td>\n",
       "                        <td id=\"T_1a6d8_row0_col26\" class=\"data row0 col26\" >196.000000</td>\n",
       "                        <td id=\"T_1a6d8_row0_col27\" class=\"data row0 col27\" >Gd</td>\n",
       "                        <td id=\"T_1a6d8_row0_col28\" class=\"data row0 col28\" >TA</td>\n",
       "                        <td id=\"T_1a6d8_row0_col29\" class=\"data row0 col29\" >PConc</td>\n",
       "                        <td id=\"T_1a6d8_row0_col30\" class=\"data row0 col30\" >Gd</td>\n",
       "                        <td id=\"T_1a6d8_row0_col31\" class=\"data row0 col31\" >TA</td>\n",
       "                        <td id=\"T_1a6d8_row0_col32\" class=\"data row0 col32\" >No</td>\n",
       "                        <td id=\"T_1a6d8_row0_col33\" class=\"data row0 col33\" >GLQ</td>\n",
       "                        <td id=\"T_1a6d8_row0_col34\" class=\"data row0 col34\" >706</td>\n",
       "                        <td id=\"T_1a6d8_row0_col35\" class=\"data row0 col35\" >Unf</td>\n",
       "                        <td id=\"T_1a6d8_row0_col36\" class=\"data row0 col36\" >0</td>\n",
       "                        <td id=\"T_1a6d8_row0_col37\" class=\"data row0 col37\" >150</td>\n",
       "                        <td id=\"T_1a6d8_row0_col38\" class=\"data row0 col38\" >856</td>\n",
       "                        <td id=\"T_1a6d8_row0_col39\" class=\"data row0 col39\" >GasA</td>\n",
       "                        <td id=\"T_1a6d8_row0_col40\" class=\"data row0 col40\" >Ex</td>\n",
       "                        <td id=\"T_1a6d8_row0_col41\" class=\"data row0 col41\" >Y</td>\n",
       "                        <td id=\"T_1a6d8_row0_col42\" class=\"data row0 col42\" >SBrkr</td>\n",
       "                        <td id=\"T_1a6d8_row0_col43\" class=\"data row0 col43\" >856</td>\n",
       "                        <td id=\"T_1a6d8_row0_col44\" class=\"data row0 col44\" >854</td>\n",
       "                        <td id=\"T_1a6d8_row0_col45\" class=\"data row0 col45\" >0</td>\n",
       "                        <td id=\"T_1a6d8_row0_col46\" class=\"data row0 col46\" >1710</td>\n",
       "                        <td id=\"T_1a6d8_row0_col47\" class=\"data row0 col47\" >1</td>\n",
       "                        <td id=\"T_1a6d8_row0_col48\" class=\"data row0 col48\" >0</td>\n",
       "                        <td id=\"T_1a6d8_row0_col49\" class=\"data row0 col49\" >2</td>\n",
       "                        <td id=\"T_1a6d8_row0_col50\" class=\"data row0 col50\" >1</td>\n",
       "                        <td id=\"T_1a6d8_row0_col51\" class=\"data row0 col51\" >3</td>\n",
       "                        <td id=\"T_1a6d8_row0_col52\" class=\"data row0 col52\" >1</td>\n",
       "                        <td id=\"T_1a6d8_row0_col53\" class=\"data row0 col53\" >Gd</td>\n",
       "                        <td id=\"T_1a6d8_row0_col54\" class=\"data row0 col54\" >8</td>\n",
       "                        <td id=\"T_1a6d8_row0_col55\" class=\"data row0 col55\" >Typ</td>\n",
       "                        <td id=\"T_1a6d8_row0_col56\" class=\"data row0 col56\" >0</td>\n",
       "                        <td id=\"T_1a6d8_row0_col57\" class=\"data row0 col57\" >nan</td>\n",
       "                        <td id=\"T_1a6d8_row0_col58\" class=\"data row0 col58\" >Attchd</td>\n",
       "                        <td id=\"T_1a6d8_row0_col59\" class=\"data row0 col59\" >2003.000000</td>\n",
       "                        <td id=\"T_1a6d8_row0_col60\" class=\"data row0 col60\" >RFn</td>\n",
       "                        <td id=\"T_1a6d8_row0_col61\" class=\"data row0 col61\" >2</td>\n",
       "                        <td id=\"T_1a6d8_row0_col62\" class=\"data row0 col62\" >548</td>\n",
       "                        <td id=\"T_1a6d8_row0_col63\" class=\"data row0 col63\" >TA</td>\n",
       "                        <td id=\"T_1a6d8_row0_col64\" class=\"data row0 col64\" >TA</td>\n",
       "                        <td id=\"T_1a6d8_row0_col65\" class=\"data row0 col65\" >Y</td>\n",
       "                        <td id=\"T_1a6d8_row0_col66\" class=\"data row0 col66\" >0</td>\n",
       "                        <td id=\"T_1a6d8_row0_col67\" class=\"data row0 col67\" >61</td>\n",
       "                        <td id=\"T_1a6d8_row0_col68\" class=\"data row0 col68\" >0</td>\n",
       "                        <td id=\"T_1a6d8_row0_col69\" class=\"data row0 col69\" >0</td>\n",
       "                        <td id=\"T_1a6d8_row0_col70\" class=\"data row0 col70\" >0</td>\n",
       "                        <td id=\"T_1a6d8_row0_col71\" class=\"data row0 col71\" >0</td>\n",
       "                        <td id=\"T_1a6d8_row0_col72\" class=\"data row0 col72\" >nan</td>\n",
       "                        <td id=\"T_1a6d8_row0_col73\" class=\"data row0 col73\" >nan</td>\n",
       "                        <td id=\"T_1a6d8_row0_col74\" class=\"data row0 col74\" >nan</td>\n",
       "                        <td id=\"T_1a6d8_row0_col75\" class=\"data row0 col75\" >0</td>\n",
       "                        <td id=\"T_1a6d8_row0_col76\" class=\"data row0 col76\" >2</td>\n",
       "                        <td id=\"T_1a6d8_row0_col77\" class=\"data row0 col77\" >2008</td>\n",
       "                        <td id=\"T_1a6d8_row0_col78\" class=\"data row0 col78\" >WD</td>\n",
       "                        <td id=\"T_1a6d8_row0_col79\" class=\"data row0 col79\" >Normal</td>\n",
       "                        <td id=\"T_1a6d8_row0_col80\" class=\"data row0 col80\" >208500</td>\n",
       "            </tr>\n",
       "            <tr>\n",
       "                        <th id=\"T_1a6d8_level0_row1\" class=\"row_heading level0 row1\" >1</th>\n",
       "                        <td id=\"T_1a6d8_row1_col0\" class=\"data row1 col0\" >2</td>\n",
       "                        <td id=\"T_1a6d8_row1_col1\" class=\"data row1 col1\" >20</td>\n",
       "                        <td id=\"T_1a6d8_row1_col2\" class=\"data row1 col2\" >RL</td>\n",
       "                        <td id=\"T_1a6d8_row1_col3\" class=\"data row1 col3\" >80.000000</td>\n",
       "                        <td id=\"T_1a6d8_row1_col4\" class=\"data row1 col4\" >9600</td>\n",
       "                        <td id=\"T_1a6d8_row1_col5\" class=\"data row1 col5\" >Pave</td>\n",
       "                        <td id=\"T_1a6d8_row1_col6\" class=\"data row1 col6\" >nan</td>\n",
       "                        <td id=\"T_1a6d8_row1_col7\" class=\"data row1 col7\" >Reg</td>\n",
       "                        <td id=\"T_1a6d8_row1_col8\" class=\"data row1 col8\" >Lvl</td>\n",
       "                        <td id=\"T_1a6d8_row1_col9\" class=\"data row1 col9\" >AllPub</td>\n",
       "                        <td id=\"T_1a6d8_row1_col10\" class=\"data row1 col10\" >FR2</td>\n",
       "                        <td id=\"T_1a6d8_row1_col11\" class=\"data row1 col11\" >Gtl</td>\n",
       "                        <td id=\"T_1a6d8_row1_col12\" class=\"data row1 col12\" >Veenker</td>\n",
       "                        <td id=\"T_1a6d8_row1_col13\" class=\"data row1 col13\" >Feedr</td>\n",
       "                        <td id=\"T_1a6d8_row1_col14\" class=\"data row1 col14\" >Norm</td>\n",
       "                        <td id=\"T_1a6d8_row1_col15\" class=\"data row1 col15\" >1Fam</td>\n",
       "                        <td id=\"T_1a6d8_row1_col16\" class=\"data row1 col16\" >1Story</td>\n",
       "                        <td id=\"T_1a6d8_row1_col17\" class=\"data row1 col17\" >6</td>\n",
       "                        <td id=\"T_1a6d8_row1_col18\" class=\"data row1 col18\" >8</td>\n",
       "                        <td id=\"T_1a6d8_row1_col19\" class=\"data row1 col19\" >1976</td>\n",
       "                        <td id=\"T_1a6d8_row1_col20\" class=\"data row1 col20\" >1976</td>\n",
       "                        <td id=\"T_1a6d8_row1_col21\" class=\"data row1 col21\" >Gable</td>\n",
       "                        <td id=\"T_1a6d8_row1_col22\" class=\"data row1 col22\" >CompShg</td>\n",
       "                        <td id=\"T_1a6d8_row1_col23\" class=\"data row1 col23\" >MetalSd</td>\n",
       "                        <td id=\"T_1a6d8_row1_col24\" class=\"data row1 col24\" >MetalSd</td>\n",
       "                        <td id=\"T_1a6d8_row1_col25\" class=\"data row1 col25\" >None</td>\n",
       "                        <td id=\"T_1a6d8_row1_col26\" class=\"data row1 col26\" >0.000000</td>\n",
       "                        <td id=\"T_1a6d8_row1_col27\" class=\"data row1 col27\" >TA</td>\n",
       "                        <td id=\"T_1a6d8_row1_col28\" class=\"data row1 col28\" >TA</td>\n",
       "                        <td id=\"T_1a6d8_row1_col29\" class=\"data row1 col29\" >CBlock</td>\n",
       "                        <td id=\"T_1a6d8_row1_col30\" class=\"data row1 col30\" >Gd</td>\n",
       "                        <td id=\"T_1a6d8_row1_col31\" class=\"data row1 col31\" >TA</td>\n",
       "                        <td id=\"T_1a6d8_row1_col32\" class=\"data row1 col32\" >Gd</td>\n",
       "                        <td id=\"T_1a6d8_row1_col33\" class=\"data row1 col33\" >ALQ</td>\n",
       "                        <td id=\"T_1a6d8_row1_col34\" class=\"data row1 col34\" >978</td>\n",
       "                        <td id=\"T_1a6d8_row1_col35\" class=\"data row1 col35\" >Unf</td>\n",
       "                        <td id=\"T_1a6d8_row1_col36\" class=\"data row1 col36\" >0</td>\n",
       "                        <td id=\"T_1a6d8_row1_col37\" class=\"data row1 col37\" >284</td>\n",
       "                        <td id=\"T_1a6d8_row1_col38\" class=\"data row1 col38\" >1262</td>\n",
       "                        <td id=\"T_1a6d8_row1_col39\" class=\"data row1 col39\" >GasA</td>\n",
       "                        <td id=\"T_1a6d8_row1_col40\" class=\"data row1 col40\" >Ex</td>\n",
       "                        <td id=\"T_1a6d8_row1_col41\" class=\"data row1 col41\" >Y</td>\n",
       "                        <td id=\"T_1a6d8_row1_col42\" class=\"data row1 col42\" >SBrkr</td>\n",
       "                        <td id=\"T_1a6d8_row1_col43\" class=\"data row1 col43\" >1262</td>\n",
       "                        <td id=\"T_1a6d8_row1_col44\" class=\"data row1 col44\" >0</td>\n",
       "                        <td id=\"T_1a6d8_row1_col45\" class=\"data row1 col45\" >0</td>\n",
       "                        <td id=\"T_1a6d8_row1_col46\" class=\"data row1 col46\" >1262</td>\n",
       "                        <td id=\"T_1a6d8_row1_col47\" class=\"data row1 col47\" >0</td>\n",
       "                        <td id=\"T_1a6d8_row1_col48\" class=\"data row1 col48\" >1</td>\n",
       "                        <td id=\"T_1a6d8_row1_col49\" class=\"data row1 col49\" >2</td>\n",
       "                        <td id=\"T_1a6d8_row1_col50\" class=\"data row1 col50\" >0</td>\n",
       "                        <td id=\"T_1a6d8_row1_col51\" class=\"data row1 col51\" >3</td>\n",
       "                        <td id=\"T_1a6d8_row1_col52\" class=\"data row1 col52\" >1</td>\n",
       "                        <td id=\"T_1a6d8_row1_col53\" class=\"data row1 col53\" >TA</td>\n",
       "                        <td id=\"T_1a6d8_row1_col54\" class=\"data row1 col54\" >6</td>\n",
       "                        <td id=\"T_1a6d8_row1_col55\" class=\"data row1 col55\" >Typ</td>\n",
       "                        <td id=\"T_1a6d8_row1_col56\" class=\"data row1 col56\" >1</td>\n",
       "                        <td id=\"T_1a6d8_row1_col57\" class=\"data row1 col57\" >TA</td>\n",
       "                        <td id=\"T_1a6d8_row1_col58\" class=\"data row1 col58\" >Attchd</td>\n",
       "                        <td id=\"T_1a6d8_row1_col59\" class=\"data row1 col59\" >1976.000000</td>\n",
       "                        <td id=\"T_1a6d8_row1_col60\" class=\"data row1 col60\" >RFn</td>\n",
       "                        <td id=\"T_1a6d8_row1_col61\" class=\"data row1 col61\" >2</td>\n",
       "                        <td id=\"T_1a6d8_row1_col62\" class=\"data row1 col62\" >460</td>\n",
       "                        <td id=\"T_1a6d8_row1_col63\" class=\"data row1 col63\" >TA</td>\n",
       "                        <td id=\"T_1a6d8_row1_col64\" class=\"data row1 col64\" >TA</td>\n",
       "                        <td id=\"T_1a6d8_row1_col65\" class=\"data row1 col65\" >Y</td>\n",
       "                        <td id=\"T_1a6d8_row1_col66\" class=\"data row1 col66\" >298</td>\n",
       "                        <td id=\"T_1a6d8_row1_col67\" class=\"data row1 col67\" >0</td>\n",
       "                        <td id=\"T_1a6d8_row1_col68\" class=\"data row1 col68\" >0</td>\n",
       "                        <td id=\"T_1a6d8_row1_col69\" class=\"data row1 col69\" >0</td>\n",
       "                        <td id=\"T_1a6d8_row1_col70\" class=\"data row1 col70\" >0</td>\n",
       "                        <td id=\"T_1a6d8_row1_col71\" class=\"data row1 col71\" >0</td>\n",
       "                        <td id=\"T_1a6d8_row1_col72\" class=\"data row1 col72\" >nan</td>\n",
       "                        <td id=\"T_1a6d8_row1_col73\" class=\"data row1 col73\" >nan</td>\n",
       "                        <td id=\"T_1a6d8_row1_col74\" class=\"data row1 col74\" >nan</td>\n",
       "                        <td id=\"T_1a6d8_row1_col75\" class=\"data row1 col75\" >0</td>\n",
       "                        <td id=\"T_1a6d8_row1_col76\" class=\"data row1 col76\" >5</td>\n",
       "                        <td id=\"T_1a6d8_row1_col77\" class=\"data row1 col77\" >2007</td>\n",
       "                        <td id=\"T_1a6d8_row1_col78\" class=\"data row1 col78\" >WD</td>\n",
       "                        <td id=\"T_1a6d8_row1_col79\" class=\"data row1 col79\" >Normal</td>\n",
       "                        <td id=\"T_1a6d8_row1_col80\" class=\"data row1 col80\" >181500</td>\n",
       "            </tr>\n",
       "            <tr>\n",
       "                        <th id=\"T_1a6d8_level0_row2\" class=\"row_heading level0 row2\" >2</th>\n",
       "                        <td id=\"T_1a6d8_row2_col0\" class=\"data row2 col0\" >3</td>\n",
       "                        <td id=\"T_1a6d8_row2_col1\" class=\"data row2 col1\" >60</td>\n",
       "                        <td id=\"T_1a6d8_row2_col2\" class=\"data row2 col2\" >RL</td>\n",
       "                        <td id=\"T_1a6d8_row2_col3\" class=\"data row2 col3\" >68.000000</td>\n",
       "                        <td id=\"T_1a6d8_row2_col4\" class=\"data row2 col4\" >11250</td>\n",
       "                        <td id=\"T_1a6d8_row2_col5\" class=\"data row2 col5\" >Pave</td>\n",
       "                        <td id=\"T_1a6d8_row2_col6\" class=\"data row2 col6\" >nan</td>\n",
       "                        <td id=\"T_1a6d8_row2_col7\" class=\"data row2 col7\" >IR1</td>\n",
       "                        <td id=\"T_1a6d8_row2_col8\" class=\"data row2 col8\" >Lvl</td>\n",
       "                        <td id=\"T_1a6d8_row2_col9\" class=\"data row2 col9\" >AllPub</td>\n",
       "                        <td id=\"T_1a6d8_row2_col10\" class=\"data row2 col10\" >Inside</td>\n",
       "                        <td id=\"T_1a6d8_row2_col11\" class=\"data row2 col11\" >Gtl</td>\n",
       "                        <td id=\"T_1a6d8_row2_col12\" class=\"data row2 col12\" >CollgCr</td>\n",
       "                        <td id=\"T_1a6d8_row2_col13\" class=\"data row2 col13\" >Norm</td>\n",
       "                        <td id=\"T_1a6d8_row2_col14\" class=\"data row2 col14\" >Norm</td>\n",
       "                        <td id=\"T_1a6d8_row2_col15\" class=\"data row2 col15\" >1Fam</td>\n",
       "                        <td id=\"T_1a6d8_row2_col16\" class=\"data row2 col16\" >2Story</td>\n",
       "                        <td id=\"T_1a6d8_row2_col17\" class=\"data row2 col17\" >7</td>\n",
       "                        <td id=\"T_1a6d8_row2_col18\" class=\"data row2 col18\" >5</td>\n",
       "                        <td id=\"T_1a6d8_row2_col19\" class=\"data row2 col19\" >2001</td>\n",
       "                        <td id=\"T_1a6d8_row2_col20\" class=\"data row2 col20\" >2002</td>\n",
       "                        <td id=\"T_1a6d8_row2_col21\" class=\"data row2 col21\" >Gable</td>\n",
       "                        <td id=\"T_1a6d8_row2_col22\" class=\"data row2 col22\" >CompShg</td>\n",
       "                        <td id=\"T_1a6d8_row2_col23\" class=\"data row2 col23\" >VinylSd</td>\n",
       "                        <td id=\"T_1a6d8_row2_col24\" class=\"data row2 col24\" >VinylSd</td>\n",
       "                        <td id=\"T_1a6d8_row2_col25\" class=\"data row2 col25\" >BrkFace</td>\n",
       "                        <td id=\"T_1a6d8_row2_col26\" class=\"data row2 col26\" >162.000000</td>\n",
       "                        <td id=\"T_1a6d8_row2_col27\" class=\"data row2 col27\" >Gd</td>\n",
       "                        <td id=\"T_1a6d8_row2_col28\" class=\"data row2 col28\" >TA</td>\n",
       "                        <td id=\"T_1a6d8_row2_col29\" class=\"data row2 col29\" >PConc</td>\n",
       "                        <td id=\"T_1a6d8_row2_col30\" class=\"data row2 col30\" >Gd</td>\n",
       "                        <td id=\"T_1a6d8_row2_col31\" class=\"data row2 col31\" >TA</td>\n",
       "                        <td id=\"T_1a6d8_row2_col32\" class=\"data row2 col32\" >Mn</td>\n",
       "                        <td id=\"T_1a6d8_row2_col33\" class=\"data row2 col33\" >GLQ</td>\n",
       "                        <td id=\"T_1a6d8_row2_col34\" class=\"data row2 col34\" >486</td>\n",
       "                        <td id=\"T_1a6d8_row2_col35\" class=\"data row2 col35\" >Unf</td>\n",
       "                        <td id=\"T_1a6d8_row2_col36\" class=\"data row2 col36\" >0</td>\n",
       "                        <td id=\"T_1a6d8_row2_col37\" class=\"data row2 col37\" >434</td>\n",
       "                        <td id=\"T_1a6d8_row2_col38\" class=\"data row2 col38\" >920</td>\n",
       "                        <td id=\"T_1a6d8_row2_col39\" class=\"data row2 col39\" >GasA</td>\n",
       "                        <td id=\"T_1a6d8_row2_col40\" class=\"data row2 col40\" >Ex</td>\n",
       "                        <td id=\"T_1a6d8_row2_col41\" class=\"data row2 col41\" >Y</td>\n",
       "                        <td id=\"T_1a6d8_row2_col42\" class=\"data row2 col42\" >SBrkr</td>\n",
       "                        <td id=\"T_1a6d8_row2_col43\" class=\"data row2 col43\" >920</td>\n",
       "                        <td id=\"T_1a6d8_row2_col44\" class=\"data row2 col44\" >866</td>\n",
       "                        <td id=\"T_1a6d8_row2_col45\" class=\"data row2 col45\" >0</td>\n",
       "                        <td id=\"T_1a6d8_row2_col46\" class=\"data row2 col46\" >1786</td>\n",
       "                        <td id=\"T_1a6d8_row2_col47\" class=\"data row2 col47\" >1</td>\n",
       "                        <td id=\"T_1a6d8_row2_col48\" class=\"data row2 col48\" >0</td>\n",
       "                        <td id=\"T_1a6d8_row2_col49\" class=\"data row2 col49\" >2</td>\n",
       "                        <td id=\"T_1a6d8_row2_col50\" class=\"data row2 col50\" >1</td>\n",
       "                        <td id=\"T_1a6d8_row2_col51\" class=\"data row2 col51\" >3</td>\n",
       "                        <td id=\"T_1a6d8_row2_col52\" class=\"data row2 col52\" >1</td>\n",
       "                        <td id=\"T_1a6d8_row2_col53\" class=\"data row2 col53\" >Gd</td>\n",
       "                        <td id=\"T_1a6d8_row2_col54\" class=\"data row2 col54\" >6</td>\n",
       "                        <td id=\"T_1a6d8_row2_col55\" class=\"data row2 col55\" >Typ</td>\n",
       "                        <td id=\"T_1a6d8_row2_col56\" class=\"data row2 col56\" >1</td>\n",
       "                        <td id=\"T_1a6d8_row2_col57\" class=\"data row2 col57\" >TA</td>\n",
       "                        <td id=\"T_1a6d8_row2_col58\" class=\"data row2 col58\" >Attchd</td>\n",
       "                        <td id=\"T_1a6d8_row2_col59\" class=\"data row2 col59\" >2001.000000</td>\n",
       "                        <td id=\"T_1a6d8_row2_col60\" class=\"data row2 col60\" >RFn</td>\n",
       "                        <td id=\"T_1a6d8_row2_col61\" class=\"data row2 col61\" >2</td>\n",
       "                        <td id=\"T_1a6d8_row2_col62\" class=\"data row2 col62\" >608</td>\n",
       "                        <td id=\"T_1a6d8_row2_col63\" class=\"data row2 col63\" >TA</td>\n",
       "                        <td id=\"T_1a6d8_row2_col64\" class=\"data row2 col64\" >TA</td>\n",
       "                        <td id=\"T_1a6d8_row2_col65\" class=\"data row2 col65\" >Y</td>\n",
       "                        <td id=\"T_1a6d8_row2_col66\" class=\"data row2 col66\" >0</td>\n",
       "                        <td id=\"T_1a6d8_row2_col67\" class=\"data row2 col67\" >42</td>\n",
       "                        <td id=\"T_1a6d8_row2_col68\" class=\"data row2 col68\" >0</td>\n",
       "                        <td id=\"T_1a6d8_row2_col69\" class=\"data row2 col69\" >0</td>\n",
       "                        <td id=\"T_1a6d8_row2_col70\" class=\"data row2 col70\" >0</td>\n",
       "                        <td id=\"T_1a6d8_row2_col71\" class=\"data row2 col71\" >0</td>\n",
       "                        <td id=\"T_1a6d8_row2_col72\" class=\"data row2 col72\" >nan</td>\n",
       "                        <td id=\"T_1a6d8_row2_col73\" class=\"data row2 col73\" >nan</td>\n",
       "                        <td id=\"T_1a6d8_row2_col74\" class=\"data row2 col74\" >nan</td>\n",
       "                        <td id=\"T_1a6d8_row2_col75\" class=\"data row2 col75\" >0</td>\n",
       "                        <td id=\"T_1a6d8_row2_col76\" class=\"data row2 col76\" >9</td>\n",
       "                        <td id=\"T_1a6d8_row2_col77\" class=\"data row2 col77\" >2008</td>\n",
       "                        <td id=\"T_1a6d8_row2_col78\" class=\"data row2 col78\" >WD</td>\n",
       "                        <td id=\"T_1a6d8_row2_col79\" class=\"data row2 col79\" >Normal</td>\n",
       "                        <td id=\"T_1a6d8_row2_col80\" class=\"data row2 col80\" >223500</td>\n",
       "            </tr>\n",
       "            <tr>\n",
       "                        <th id=\"T_1a6d8_level0_row3\" class=\"row_heading level0 row3\" >3</th>\n",
       "                        <td id=\"T_1a6d8_row3_col0\" class=\"data row3 col0\" >4</td>\n",
       "                        <td id=\"T_1a6d8_row3_col1\" class=\"data row3 col1\" >70</td>\n",
       "                        <td id=\"T_1a6d8_row3_col2\" class=\"data row3 col2\" >RL</td>\n",
       "                        <td id=\"T_1a6d8_row3_col3\" class=\"data row3 col3\" >60.000000</td>\n",
       "                        <td id=\"T_1a6d8_row3_col4\" class=\"data row3 col4\" >9550</td>\n",
       "                        <td id=\"T_1a6d8_row3_col5\" class=\"data row3 col5\" >Pave</td>\n",
       "                        <td id=\"T_1a6d8_row3_col6\" class=\"data row3 col6\" >nan</td>\n",
       "                        <td id=\"T_1a6d8_row3_col7\" class=\"data row3 col7\" >IR1</td>\n",
       "                        <td id=\"T_1a6d8_row3_col8\" class=\"data row3 col8\" >Lvl</td>\n",
       "                        <td id=\"T_1a6d8_row3_col9\" class=\"data row3 col9\" >AllPub</td>\n",
       "                        <td id=\"T_1a6d8_row3_col10\" class=\"data row3 col10\" >Corner</td>\n",
       "                        <td id=\"T_1a6d8_row3_col11\" class=\"data row3 col11\" >Gtl</td>\n",
       "                        <td id=\"T_1a6d8_row3_col12\" class=\"data row3 col12\" >Crawfor</td>\n",
       "                        <td id=\"T_1a6d8_row3_col13\" class=\"data row3 col13\" >Norm</td>\n",
       "                        <td id=\"T_1a6d8_row3_col14\" class=\"data row3 col14\" >Norm</td>\n",
       "                        <td id=\"T_1a6d8_row3_col15\" class=\"data row3 col15\" >1Fam</td>\n",
       "                        <td id=\"T_1a6d8_row3_col16\" class=\"data row3 col16\" >2Story</td>\n",
       "                        <td id=\"T_1a6d8_row3_col17\" class=\"data row3 col17\" >7</td>\n",
       "                        <td id=\"T_1a6d8_row3_col18\" class=\"data row3 col18\" >5</td>\n",
       "                        <td id=\"T_1a6d8_row3_col19\" class=\"data row3 col19\" >1915</td>\n",
       "                        <td id=\"T_1a6d8_row3_col20\" class=\"data row3 col20\" >1970</td>\n",
       "                        <td id=\"T_1a6d8_row3_col21\" class=\"data row3 col21\" >Gable</td>\n",
       "                        <td id=\"T_1a6d8_row3_col22\" class=\"data row3 col22\" >CompShg</td>\n",
       "                        <td id=\"T_1a6d8_row3_col23\" class=\"data row3 col23\" >Wd Sdng</td>\n",
       "                        <td id=\"T_1a6d8_row3_col24\" class=\"data row3 col24\" >Wd Shng</td>\n",
       "                        <td id=\"T_1a6d8_row3_col25\" class=\"data row3 col25\" >None</td>\n",
       "                        <td id=\"T_1a6d8_row3_col26\" class=\"data row3 col26\" >0.000000</td>\n",
       "                        <td id=\"T_1a6d8_row3_col27\" class=\"data row3 col27\" >TA</td>\n",
       "                        <td id=\"T_1a6d8_row3_col28\" class=\"data row3 col28\" >TA</td>\n",
       "                        <td id=\"T_1a6d8_row3_col29\" class=\"data row3 col29\" >BrkTil</td>\n",
       "                        <td id=\"T_1a6d8_row3_col30\" class=\"data row3 col30\" >TA</td>\n",
       "                        <td id=\"T_1a6d8_row3_col31\" class=\"data row3 col31\" >Gd</td>\n",
       "                        <td id=\"T_1a6d8_row3_col32\" class=\"data row3 col32\" >No</td>\n",
       "                        <td id=\"T_1a6d8_row3_col33\" class=\"data row3 col33\" >ALQ</td>\n",
       "                        <td id=\"T_1a6d8_row3_col34\" class=\"data row3 col34\" >216</td>\n",
       "                        <td id=\"T_1a6d8_row3_col35\" class=\"data row3 col35\" >Unf</td>\n",
       "                        <td id=\"T_1a6d8_row3_col36\" class=\"data row3 col36\" >0</td>\n",
       "                        <td id=\"T_1a6d8_row3_col37\" class=\"data row3 col37\" >540</td>\n",
       "                        <td id=\"T_1a6d8_row3_col38\" class=\"data row3 col38\" >756</td>\n",
       "                        <td id=\"T_1a6d8_row3_col39\" class=\"data row3 col39\" >GasA</td>\n",
       "                        <td id=\"T_1a6d8_row3_col40\" class=\"data row3 col40\" >Gd</td>\n",
       "                        <td id=\"T_1a6d8_row3_col41\" class=\"data row3 col41\" >Y</td>\n",
       "                        <td id=\"T_1a6d8_row3_col42\" class=\"data row3 col42\" >SBrkr</td>\n",
       "                        <td id=\"T_1a6d8_row3_col43\" class=\"data row3 col43\" >961</td>\n",
       "                        <td id=\"T_1a6d8_row3_col44\" class=\"data row3 col44\" >756</td>\n",
       "                        <td id=\"T_1a6d8_row3_col45\" class=\"data row3 col45\" >0</td>\n",
       "                        <td id=\"T_1a6d8_row3_col46\" class=\"data row3 col46\" >1717</td>\n",
       "                        <td id=\"T_1a6d8_row3_col47\" class=\"data row3 col47\" >1</td>\n",
       "                        <td id=\"T_1a6d8_row3_col48\" class=\"data row3 col48\" >0</td>\n",
       "                        <td id=\"T_1a6d8_row3_col49\" class=\"data row3 col49\" >1</td>\n",
       "                        <td id=\"T_1a6d8_row3_col50\" class=\"data row3 col50\" >0</td>\n",
       "                        <td id=\"T_1a6d8_row3_col51\" class=\"data row3 col51\" >3</td>\n",
       "                        <td id=\"T_1a6d8_row3_col52\" class=\"data row3 col52\" >1</td>\n",
       "                        <td id=\"T_1a6d8_row3_col53\" class=\"data row3 col53\" >Gd</td>\n",
       "                        <td id=\"T_1a6d8_row3_col54\" class=\"data row3 col54\" >7</td>\n",
       "                        <td id=\"T_1a6d8_row3_col55\" class=\"data row3 col55\" >Typ</td>\n",
       "                        <td id=\"T_1a6d8_row3_col56\" class=\"data row3 col56\" >1</td>\n",
       "                        <td id=\"T_1a6d8_row3_col57\" class=\"data row3 col57\" >Gd</td>\n",
       "                        <td id=\"T_1a6d8_row3_col58\" class=\"data row3 col58\" >Detchd</td>\n",
       "                        <td id=\"T_1a6d8_row3_col59\" class=\"data row3 col59\" >1998.000000</td>\n",
       "                        <td id=\"T_1a6d8_row3_col60\" class=\"data row3 col60\" >Unf</td>\n",
       "                        <td id=\"T_1a6d8_row3_col61\" class=\"data row3 col61\" >3</td>\n",
       "                        <td id=\"T_1a6d8_row3_col62\" class=\"data row3 col62\" >642</td>\n",
       "                        <td id=\"T_1a6d8_row3_col63\" class=\"data row3 col63\" >TA</td>\n",
       "                        <td id=\"T_1a6d8_row3_col64\" class=\"data row3 col64\" >TA</td>\n",
       "                        <td id=\"T_1a6d8_row3_col65\" class=\"data row3 col65\" >Y</td>\n",
       "                        <td id=\"T_1a6d8_row3_col66\" class=\"data row3 col66\" >0</td>\n",
       "                        <td id=\"T_1a6d8_row3_col67\" class=\"data row3 col67\" >35</td>\n",
       "                        <td id=\"T_1a6d8_row3_col68\" class=\"data row3 col68\" >272</td>\n",
       "                        <td id=\"T_1a6d8_row3_col69\" class=\"data row3 col69\" >0</td>\n",
       "                        <td id=\"T_1a6d8_row3_col70\" class=\"data row3 col70\" >0</td>\n",
       "                        <td id=\"T_1a6d8_row3_col71\" class=\"data row3 col71\" >0</td>\n",
       "                        <td id=\"T_1a6d8_row3_col72\" class=\"data row3 col72\" >nan</td>\n",
       "                        <td id=\"T_1a6d8_row3_col73\" class=\"data row3 col73\" >nan</td>\n",
       "                        <td id=\"T_1a6d8_row3_col74\" class=\"data row3 col74\" >nan</td>\n",
       "                        <td id=\"T_1a6d8_row3_col75\" class=\"data row3 col75\" >0</td>\n",
       "                        <td id=\"T_1a6d8_row3_col76\" class=\"data row3 col76\" >2</td>\n",
       "                        <td id=\"T_1a6d8_row3_col77\" class=\"data row3 col77\" >2006</td>\n",
       "                        <td id=\"T_1a6d8_row3_col78\" class=\"data row3 col78\" >WD</td>\n",
       "                        <td id=\"T_1a6d8_row3_col79\" class=\"data row3 col79\" >Abnorml</td>\n",
       "                        <td id=\"T_1a6d8_row3_col80\" class=\"data row3 col80\" >140000</td>\n",
       "            </tr>\n",
       "            <tr>\n",
       "                        <th id=\"T_1a6d8_level0_row4\" class=\"row_heading level0 row4\" >4</th>\n",
       "                        <td id=\"T_1a6d8_row4_col0\" class=\"data row4 col0\" >5</td>\n",
       "                        <td id=\"T_1a6d8_row4_col1\" class=\"data row4 col1\" >60</td>\n",
       "                        <td id=\"T_1a6d8_row4_col2\" class=\"data row4 col2\" >RL</td>\n",
       "                        <td id=\"T_1a6d8_row4_col3\" class=\"data row4 col3\" >84.000000</td>\n",
       "                        <td id=\"T_1a6d8_row4_col4\" class=\"data row4 col4\" >14260</td>\n",
       "                        <td id=\"T_1a6d8_row4_col5\" class=\"data row4 col5\" >Pave</td>\n",
       "                        <td id=\"T_1a6d8_row4_col6\" class=\"data row4 col6\" >nan</td>\n",
       "                        <td id=\"T_1a6d8_row4_col7\" class=\"data row4 col7\" >IR1</td>\n",
       "                        <td id=\"T_1a6d8_row4_col8\" class=\"data row4 col8\" >Lvl</td>\n",
       "                        <td id=\"T_1a6d8_row4_col9\" class=\"data row4 col9\" >AllPub</td>\n",
       "                        <td id=\"T_1a6d8_row4_col10\" class=\"data row4 col10\" >FR2</td>\n",
       "                        <td id=\"T_1a6d8_row4_col11\" class=\"data row4 col11\" >Gtl</td>\n",
       "                        <td id=\"T_1a6d8_row4_col12\" class=\"data row4 col12\" >NoRidge</td>\n",
       "                        <td id=\"T_1a6d8_row4_col13\" class=\"data row4 col13\" >Norm</td>\n",
       "                        <td id=\"T_1a6d8_row4_col14\" class=\"data row4 col14\" >Norm</td>\n",
       "                        <td id=\"T_1a6d8_row4_col15\" class=\"data row4 col15\" >1Fam</td>\n",
       "                        <td id=\"T_1a6d8_row4_col16\" class=\"data row4 col16\" >2Story</td>\n",
       "                        <td id=\"T_1a6d8_row4_col17\" class=\"data row4 col17\" >8</td>\n",
       "                        <td id=\"T_1a6d8_row4_col18\" class=\"data row4 col18\" >5</td>\n",
       "                        <td id=\"T_1a6d8_row4_col19\" class=\"data row4 col19\" >2000</td>\n",
       "                        <td id=\"T_1a6d8_row4_col20\" class=\"data row4 col20\" >2000</td>\n",
       "                        <td id=\"T_1a6d8_row4_col21\" class=\"data row4 col21\" >Gable</td>\n",
       "                        <td id=\"T_1a6d8_row4_col22\" class=\"data row4 col22\" >CompShg</td>\n",
       "                        <td id=\"T_1a6d8_row4_col23\" class=\"data row4 col23\" >VinylSd</td>\n",
       "                        <td id=\"T_1a6d8_row4_col24\" class=\"data row4 col24\" >VinylSd</td>\n",
       "                        <td id=\"T_1a6d8_row4_col25\" class=\"data row4 col25\" >BrkFace</td>\n",
       "                        <td id=\"T_1a6d8_row4_col26\" class=\"data row4 col26\" >350.000000</td>\n",
       "                        <td id=\"T_1a6d8_row4_col27\" class=\"data row4 col27\" >Gd</td>\n",
       "                        <td id=\"T_1a6d8_row4_col28\" class=\"data row4 col28\" >TA</td>\n",
       "                        <td id=\"T_1a6d8_row4_col29\" class=\"data row4 col29\" >PConc</td>\n",
       "                        <td id=\"T_1a6d8_row4_col30\" class=\"data row4 col30\" >Gd</td>\n",
       "                        <td id=\"T_1a6d8_row4_col31\" class=\"data row4 col31\" >TA</td>\n",
       "                        <td id=\"T_1a6d8_row4_col32\" class=\"data row4 col32\" >Av</td>\n",
       "                        <td id=\"T_1a6d8_row4_col33\" class=\"data row4 col33\" >GLQ</td>\n",
       "                        <td id=\"T_1a6d8_row4_col34\" class=\"data row4 col34\" >655</td>\n",
       "                        <td id=\"T_1a6d8_row4_col35\" class=\"data row4 col35\" >Unf</td>\n",
       "                        <td id=\"T_1a6d8_row4_col36\" class=\"data row4 col36\" >0</td>\n",
       "                        <td id=\"T_1a6d8_row4_col37\" class=\"data row4 col37\" >490</td>\n",
       "                        <td id=\"T_1a6d8_row4_col38\" class=\"data row4 col38\" >1145</td>\n",
       "                        <td id=\"T_1a6d8_row4_col39\" class=\"data row4 col39\" >GasA</td>\n",
       "                        <td id=\"T_1a6d8_row4_col40\" class=\"data row4 col40\" >Ex</td>\n",
       "                        <td id=\"T_1a6d8_row4_col41\" class=\"data row4 col41\" >Y</td>\n",
       "                        <td id=\"T_1a6d8_row4_col42\" class=\"data row4 col42\" >SBrkr</td>\n",
       "                        <td id=\"T_1a6d8_row4_col43\" class=\"data row4 col43\" >1145</td>\n",
       "                        <td id=\"T_1a6d8_row4_col44\" class=\"data row4 col44\" >1053</td>\n",
       "                        <td id=\"T_1a6d8_row4_col45\" class=\"data row4 col45\" >0</td>\n",
       "                        <td id=\"T_1a6d8_row4_col46\" class=\"data row4 col46\" >2198</td>\n",
       "                        <td id=\"T_1a6d8_row4_col47\" class=\"data row4 col47\" >1</td>\n",
       "                        <td id=\"T_1a6d8_row4_col48\" class=\"data row4 col48\" >0</td>\n",
       "                        <td id=\"T_1a6d8_row4_col49\" class=\"data row4 col49\" >2</td>\n",
       "                        <td id=\"T_1a6d8_row4_col50\" class=\"data row4 col50\" >1</td>\n",
       "                        <td id=\"T_1a6d8_row4_col51\" class=\"data row4 col51\" >4</td>\n",
       "                        <td id=\"T_1a6d8_row4_col52\" class=\"data row4 col52\" >1</td>\n",
       "                        <td id=\"T_1a6d8_row4_col53\" class=\"data row4 col53\" >Gd</td>\n",
       "                        <td id=\"T_1a6d8_row4_col54\" class=\"data row4 col54\" >9</td>\n",
       "                        <td id=\"T_1a6d8_row4_col55\" class=\"data row4 col55\" >Typ</td>\n",
       "                        <td id=\"T_1a6d8_row4_col56\" class=\"data row4 col56\" >1</td>\n",
       "                        <td id=\"T_1a6d8_row4_col57\" class=\"data row4 col57\" >TA</td>\n",
       "                        <td id=\"T_1a6d8_row4_col58\" class=\"data row4 col58\" >Attchd</td>\n",
       "                        <td id=\"T_1a6d8_row4_col59\" class=\"data row4 col59\" >2000.000000</td>\n",
       "                        <td id=\"T_1a6d8_row4_col60\" class=\"data row4 col60\" >RFn</td>\n",
       "                        <td id=\"T_1a6d8_row4_col61\" class=\"data row4 col61\" >3</td>\n",
       "                        <td id=\"T_1a6d8_row4_col62\" class=\"data row4 col62\" >836</td>\n",
       "                        <td id=\"T_1a6d8_row4_col63\" class=\"data row4 col63\" >TA</td>\n",
       "                        <td id=\"T_1a6d8_row4_col64\" class=\"data row4 col64\" >TA</td>\n",
       "                        <td id=\"T_1a6d8_row4_col65\" class=\"data row4 col65\" >Y</td>\n",
       "                        <td id=\"T_1a6d8_row4_col66\" class=\"data row4 col66\" >192</td>\n",
       "                        <td id=\"T_1a6d8_row4_col67\" class=\"data row4 col67\" >84</td>\n",
       "                        <td id=\"T_1a6d8_row4_col68\" class=\"data row4 col68\" >0</td>\n",
       "                        <td id=\"T_1a6d8_row4_col69\" class=\"data row4 col69\" >0</td>\n",
       "                        <td id=\"T_1a6d8_row4_col70\" class=\"data row4 col70\" >0</td>\n",
       "                        <td id=\"T_1a6d8_row4_col71\" class=\"data row4 col71\" >0</td>\n",
       "                        <td id=\"T_1a6d8_row4_col72\" class=\"data row4 col72\" >nan</td>\n",
       "                        <td id=\"T_1a6d8_row4_col73\" class=\"data row4 col73\" >nan</td>\n",
       "                        <td id=\"T_1a6d8_row4_col74\" class=\"data row4 col74\" >nan</td>\n",
       "                        <td id=\"T_1a6d8_row4_col75\" class=\"data row4 col75\" >0</td>\n",
       "                        <td id=\"T_1a6d8_row4_col76\" class=\"data row4 col76\" >12</td>\n",
       "                        <td id=\"T_1a6d8_row4_col77\" class=\"data row4 col77\" >2008</td>\n",
       "                        <td id=\"T_1a6d8_row4_col78\" class=\"data row4 col78\" >WD</td>\n",
       "                        <td id=\"T_1a6d8_row4_col79\" class=\"data row4 col79\" >Normal</td>\n",
       "                        <td id=\"T_1a6d8_row4_col80\" class=\"data row4 col80\" >250000</td>\n",
       "            </tr>\n",
       "    </tbody></table>"
      ],
      "text/plain": [
       "<pandas.io.formats.style.Styler at 0x7ff1ab8cb8d0>"
      ]
     },
     "execution_count": 5,
     "metadata": {},
     "output_type": "execute_result"
    }
   ],
   "source": [
    "# look the data \n",
    "data_train.head().style.background_gradient(cmap = 'viridis')  "
   ]
  },
  {
   "cell_type": "code",
   "execution_count": 10,
   "id": "539e8229-b5ac-4abd-9bf6-b93b5dd95be9",
   "metadata": {
    "ExecuteTime": {
     "end_time": "2022-08-05T21:29:58.588189Z",
     "start_time": "2022-08-05T21:29:58.461104Z"
    }
   },
   "outputs": [
    {
     "data": {
      "text/html": [
       "<style type=\"text/css\">\n",
       "#T_9e427_row0_col0, #T_9e427_row1_col0, #T_9e427_row3_col0, #T_9e427_row4_col0, #T_9e427_row5_col0, #T_9e427_row6_col0, #T_9e427_row7_col0, #T_9e427_row9_col0, #T_9e427_row10_col0, #T_9e427_row11_col0, #T_9e427_row12_col0, #T_9e427_row13_col0, #T_9e427_row14_col0, #T_9e427_row15_col0, #T_9e427_row16_col0, #T_9e427_row17_col0, #T_9e427_row18_col0, #T_9e427_row19_col0, #T_9e427_row20_col0, #T_9e427_row21_col0, #T_9e427_row22_col0, #T_9e427_row23_col0, #T_9e427_row24_col0, #T_9e427_row26_col0, #T_9e427_row27_col0, #T_9e427_row28_col0, #T_9e427_row29_col0, #T_9e427_row30_col0, #T_9e427_row31_col0, #T_9e427_row32_col0, #T_9e427_row33_col0, #T_9e427_row34_col0, #T_9e427_row35_col0, #T_9e427_row36_col0, #T_9e427_row37_col0, #T_9e427_row37_col1, #T_9e427_row37_col2, #T_9e427_row37_col3, #T_9e427_row37_col4, #T_9e427_row37_col5, #T_9e427_row37_col6, #T_9e427_row37_col7 {\n",
       "  background-color: #fcfdbf;\n",
       "  color: #000000;\n",
       "}\n",
       "#T_9e427_row0_col1, #T_9e427_row0_col2, #T_9e427_row0_col5, #T_9e427_row0_col6, #T_9e427_row9_col2, #T_9e427_row9_col7, #T_9e427_row11_col2, #T_9e427_row12_col1, #T_9e427_row12_col2, #T_9e427_row12_col4, #T_9e427_row12_col5, #T_9e427_row12_col6, #T_9e427_row13_col1, #T_9e427_row13_col2, #T_9e427_row13_col4, #T_9e427_row13_col5, #T_9e427_row13_col6, #T_9e427_row13_col7, #T_9e427_row14_col2, #T_9e427_row16_col2, #T_9e427_row16_col7, #T_9e427_row34_col2 {\n",
       "  background-color: #010005;\n",
       "  color: #f1f1f1;\n",
       "}\n",
       "#T_9e427_row0_col3, #T_9e427_row0_col4, #T_9e427_row0_col7, #T_9e427_row1_col1, #T_9e427_row1_col2, #T_9e427_row1_col3, #T_9e427_row1_col4, #T_9e427_row1_col5, #T_9e427_row1_col6, #T_9e427_row1_col7, #T_9e427_row2_col0, #T_9e427_row2_col1, #T_9e427_row2_col2, #T_9e427_row2_col3, #T_9e427_row2_col4, #T_9e427_row2_col5, #T_9e427_row2_col6, #T_9e427_row2_col7, #T_9e427_row4_col1, #T_9e427_row4_col2, #T_9e427_row4_col3, #T_9e427_row4_col4, #T_9e427_row4_col5, #T_9e427_row4_col6, #T_9e427_row4_col7, #T_9e427_row5_col1, #T_9e427_row5_col2, #T_9e427_row5_col3, #T_9e427_row5_col4, #T_9e427_row5_col5, #T_9e427_row5_col6, #T_9e427_row5_col7, #T_9e427_row6_col2, #T_9e427_row6_col7, #T_9e427_row7_col2, #T_9e427_row7_col7, #T_9e427_row8_col1, #T_9e427_row8_col2, #T_9e427_row8_col3, #T_9e427_row8_col4, #T_9e427_row8_col5, #T_9e427_row8_col6, #T_9e427_row8_col7, #T_9e427_row9_col1, #T_9e427_row9_col3, #T_9e427_row9_col4, #T_9e427_row9_col5, #T_9e427_row9_col6, #T_9e427_row10_col1, #T_9e427_row10_col2, #T_9e427_row10_col3, #T_9e427_row10_col4, #T_9e427_row10_col5, #T_9e427_row10_col6, #T_9e427_row10_col7, #T_9e427_row11_col1, #T_9e427_row11_col3, #T_9e427_row11_col4, #T_9e427_row11_col5, #T_9e427_row11_col6, #T_9e427_row11_col7, #T_9e427_row12_col3, #T_9e427_row14_col1, #T_9e427_row14_col3, #T_9e427_row14_col4, #T_9e427_row14_col5, #T_9e427_row14_col6, #T_9e427_row14_col7, #T_9e427_row15_col1, #T_9e427_row15_col2, #T_9e427_row15_col3, #T_9e427_row15_col4, #T_9e427_row15_col5, #T_9e427_row15_col6, #T_9e427_row15_col7, #T_9e427_row17_col1, #T_9e427_row17_col2, #T_9e427_row17_col3, #T_9e427_row17_col4, #T_9e427_row17_col5, #T_9e427_row17_col6, #T_9e427_row17_col7, #T_9e427_row18_col1, #T_9e427_row18_col2, #T_9e427_row18_col3, #T_9e427_row18_col4, #T_9e427_row18_col5, #T_9e427_row18_col6, #T_9e427_row18_col7, #T_9e427_row19_col1, #T_9e427_row19_col2, #T_9e427_row19_col3, #T_9e427_row19_col4, #T_9e427_row19_col5, #T_9e427_row19_col6, #T_9e427_row19_col7, #T_9e427_row20_col1, #T_9e427_row20_col2, #T_9e427_row20_col3, #T_9e427_row20_col4, #T_9e427_row20_col5, #T_9e427_row20_col6, #T_9e427_row20_col7, #T_9e427_row21_col1, #T_9e427_row21_col2, #T_9e427_row21_col3, #T_9e427_row21_col4, #T_9e427_row21_col5, #T_9e427_row21_col6, #T_9e427_row21_col7, #T_9e427_row22_col1, #T_9e427_row22_col2, #T_9e427_row22_col3, #T_9e427_row22_col4, #T_9e427_row22_col5, #T_9e427_row22_col6, #T_9e427_row22_col7, #T_9e427_row23_col1, #T_9e427_row23_col2, #T_9e427_row23_col3, #T_9e427_row23_col4, #T_9e427_row23_col5, #T_9e427_row23_col6, #T_9e427_row23_col7, #T_9e427_row24_col1, #T_9e427_row24_col2, #T_9e427_row24_col3, #T_9e427_row24_col4, #T_9e427_row24_col5, #T_9e427_row24_col6, #T_9e427_row24_col7, #T_9e427_row25_col2, #T_9e427_row25_col7, #T_9e427_row26_col1, #T_9e427_row26_col2, #T_9e427_row26_col3, #T_9e427_row26_col4, #T_9e427_row26_col5, #T_9e427_row26_col6, #T_9e427_row26_col7, #T_9e427_row27_col1, #T_9e427_row27_col2, #T_9e427_row27_col3, #T_9e427_row27_col4, #T_9e427_row27_col5, #T_9e427_row27_col6, #T_9e427_row27_col7, #T_9e427_row28_col1, #T_9e427_row28_col2, #T_9e427_row28_col3, #T_9e427_row28_col4, #T_9e427_row28_col5, #T_9e427_row28_col6, #T_9e427_row28_col7, #T_9e427_row29_col1, #T_9e427_row29_col2, #T_9e427_row29_col3, #T_9e427_row29_col4, #T_9e427_row29_col5, #T_9e427_row29_col6, #T_9e427_row29_col7, #T_9e427_row30_col1, #T_9e427_row30_col2, #T_9e427_row30_col3, #T_9e427_row30_col4, #T_9e427_row30_col5, #T_9e427_row30_col6, #T_9e427_row30_col7, #T_9e427_row31_col1, #T_9e427_row31_col2, #T_9e427_row31_col3, #T_9e427_row31_col4, #T_9e427_row31_col5, #T_9e427_row31_col6, #T_9e427_row31_col7, #T_9e427_row32_col1, #T_9e427_row32_col2, #T_9e427_row32_col3, #T_9e427_row32_col4, #T_9e427_row32_col5, #T_9e427_row32_col6, #T_9e427_row32_col7, #T_9e427_row33_col1, #T_9e427_row33_col2, #T_9e427_row33_col3, #T_9e427_row33_col4, #T_9e427_row33_col5, #T_9e427_row33_col6, #T_9e427_row33_col7, #T_9e427_row34_col1, #T_9e427_row34_col3, #T_9e427_row34_col4, #T_9e427_row34_col5, #T_9e427_row34_col6, #T_9e427_row35_col1, #T_9e427_row35_col2, #T_9e427_row35_col3, #T_9e427_row35_col4, #T_9e427_row35_col5, #T_9e427_row35_col6, #T_9e427_row35_col7, #T_9e427_row36_col2, #T_9e427_row36_col7 {\n",
       "  background-color: #000004;\n",
       "  color: #f1f1f1;\n",
       "}\n",
       "#T_9e427_row3_col1, #T_9e427_row3_col4, #T_9e427_row3_col5, #T_9e427_row7_col3, #T_9e427_row36_col3 {\n",
       "  background-color: #08071e;\n",
       "  color: #f1f1f1;\n",
       "}\n",
       "#T_9e427_row3_col2 {\n",
       "  background-color: #1d1147;\n",
       "  color: #f1f1f1;\n",
       "}\n",
       "#T_9e427_row3_col3 {\n",
       "  background-color: #040414;\n",
       "  color: #f1f1f1;\n",
       "}\n",
       "#T_9e427_row3_col6, #T_9e427_row6_col3, #T_9e427_row25_col3 {\n",
       "  background-color: #07061c;\n",
       "  color: #f1f1f1;\n",
       "}\n",
       "#T_9e427_row3_col7 {\n",
       "  background-color: #5d177f;\n",
       "  color: #f1f1f1;\n",
       "}\n",
       "#T_9e427_row6_col1, #T_9e427_row6_col6, #T_9e427_row7_col1, #T_9e427_row7_col6, #T_9e427_row12_col7, #T_9e427_row13_col3, #T_9e427_row16_col1, #T_9e427_row16_col3, #T_9e427_row16_col4, #T_9e427_row16_col5, #T_9e427_row16_col6, #T_9e427_row25_col1, #T_9e427_row25_col6, #T_9e427_row36_col1, #T_9e427_row36_col6 {\n",
       "  background-color: #010106;\n",
       "  color: #f1f1f1;\n",
       "}\n",
       "#T_9e427_row6_col4, #T_9e427_row6_col5, #T_9e427_row7_col4, #T_9e427_row7_col5, #T_9e427_row25_col4, #T_9e427_row25_col5, #T_9e427_row36_col4, #T_9e427_row36_col5 {\n",
       "  background-color: #010108;\n",
       "  color: #f1f1f1;\n",
       "}\n",
       "#T_9e427_row8_col0 {\n",
       "  background-color: #fcf0b2;\n",
       "  color: #000000;\n",
       "}\n",
       "#T_9e427_row25_col0 {\n",
       "  background-color: #f4695c;\n",
       "  color: #f1f1f1;\n",
       "}\n",
       "#T_9e427_row34_col7 {\n",
       "  background-color: #02020b;\n",
       "  color: #f1f1f1;\n",
       "}\n",
       "</style>\n",
       "<table id=\"T_9e427_\">\n",
       "  <thead>\n",
       "    <tr>\n",
       "      <th class=\"blank level0\" >&nbsp;</th>\n",
       "      <th class=\"col_heading level0 col0\" >count</th>\n",
       "      <th class=\"col_heading level0 col1\" >mean</th>\n",
       "      <th class=\"col_heading level0 col2\" >std</th>\n",
       "      <th class=\"col_heading level0 col3\" >min</th>\n",
       "      <th class=\"col_heading level0 col4\" >25%</th>\n",
       "      <th class=\"col_heading level0 col5\" >50%</th>\n",
       "      <th class=\"col_heading level0 col6\" >75%</th>\n",
       "      <th class=\"col_heading level0 col7\" >max</th>\n",
       "    </tr>\n",
       "  </thead>\n",
       "  <tbody>\n",
       "    <tr>\n",
       "      <th id=\"T_9e427_level0_row0\" class=\"row_heading level0 row0\" >Id</th>\n",
       "      <td id=\"T_9e427_row0_col0\" class=\"data row0 col0\" >1460.000000</td>\n",
       "      <td id=\"T_9e427_row0_col1\" class=\"data row0 col1\" >730.500000</td>\n",
       "      <td id=\"T_9e427_row0_col2\" class=\"data row0 col2\" >421.610009</td>\n",
       "      <td id=\"T_9e427_row0_col3\" class=\"data row0 col3\" >1.000000</td>\n",
       "      <td id=\"T_9e427_row0_col4\" class=\"data row0 col4\" >365.750000</td>\n",
       "      <td id=\"T_9e427_row0_col5\" class=\"data row0 col5\" >730.500000</td>\n",
       "      <td id=\"T_9e427_row0_col6\" class=\"data row0 col6\" >1095.250000</td>\n",
       "      <td id=\"T_9e427_row0_col7\" class=\"data row0 col7\" >1460.000000</td>\n",
       "    </tr>\n",
       "    <tr>\n",
       "      <th id=\"T_9e427_level0_row1\" class=\"row_heading level0 row1\" >MSSubClass</th>\n",
       "      <td id=\"T_9e427_row1_col0\" class=\"data row1 col0\" >1460.000000</td>\n",
       "      <td id=\"T_9e427_row1_col1\" class=\"data row1 col1\" >56.897260</td>\n",
       "      <td id=\"T_9e427_row1_col2\" class=\"data row1 col2\" >42.300571</td>\n",
       "      <td id=\"T_9e427_row1_col3\" class=\"data row1 col3\" >20.000000</td>\n",
       "      <td id=\"T_9e427_row1_col4\" class=\"data row1 col4\" >20.000000</td>\n",
       "      <td id=\"T_9e427_row1_col5\" class=\"data row1 col5\" >50.000000</td>\n",
       "      <td id=\"T_9e427_row1_col6\" class=\"data row1 col6\" >70.000000</td>\n",
       "      <td id=\"T_9e427_row1_col7\" class=\"data row1 col7\" >190.000000</td>\n",
       "    </tr>\n",
       "    <tr>\n",
       "      <th id=\"T_9e427_level0_row2\" class=\"row_heading level0 row2\" >LotFrontage</th>\n",
       "      <td id=\"T_9e427_row2_col0\" class=\"data row2 col0\" >1201.000000</td>\n",
       "      <td id=\"T_9e427_row2_col1\" class=\"data row2 col1\" >70.049958</td>\n",
       "      <td id=\"T_9e427_row2_col2\" class=\"data row2 col2\" >24.284752</td>\n",
       "      <td id=\"T_9e427_row2_col3\" class=\"data row2 col3\" >21.000000</td>\n",
       "      <td id=\"T_9e427_row2_col4\" class=\"data row2 col4\" >59.000000</td>\n",
       "      <td id=\"T_9e427_row2_col5\" class=\"data row2 col5\" >69.000000</td>\n",
       "      <td id=\"T_9e427_row2_col6\" class=\"data row2 col6\" >80.000000</td>\n",
       "      <td id=\"T_9e427_row2_col7\" class=\"data row2 col7\" >313.000000</td>\n",
       "    </tr>\n",
       "    <tr>\n",
       "      <th id=\"T_9e427_level0_row3\" class=\"row_heading level0 row3\" >LotArea</th>\n",
       "      <td id=\"T_9e427_row3_col0\" class=\"data row3 col0\" >1460.000000</td>\n",
       "      <td id=\"T_9e427_row3_col1\" class=\"data row3 col1\" >10516.828082</td>\n",
       "      <td id=\"T_9e427_row3_col2\" class=\"data row3 col2\" >9981.264932</td>\n",
       "      <td id=\"T_9e427_row3_col3\" class=\"data row3 col3\" >1300.000000</td>\n",
       "      <td id=\"T_9e427_row3_col4\" class=\"data row3 col4\" >7553.500000</td>\n",
       "      <td id=\"T_9e427_row3_col5\" class=\"data row3 col5\" >9478.500000</td>\n",
       "      <td id=\"T_9e427_row3_col6\" class=\"data row3 col6\" >11601.500000</td>\n",
       "      <td id=\"T_9e427_row3_col7\" class=\"data row3 col7\" >215245.000000</td>\n",
       "    </tr>\n",
       "    <tr>\n",
       "      <th id=\"T_9e427_level0_row4\" class=\"row_heading level0 row4\" >OverallQual</th>\n",
       "      <td id=\"T_9e427_row4_col0\" class=\"data row4 col0\" >1460.000000</td>\n",
       "      <td id=\"T_9e427_row4_col1\" class=\"data row4 col1\" >6.099315</td>\n",
       "      <td id=\"T_9e427_row4_col2\" class=\"data row4 col2\" >1.382997</td>\n",
       "      <td id=\"T_9e427_row4_col3\" class=\"data row4 col3\" >1.000000</td>\n",
       "      <td id=\"T_9e427_row4_col4\" class=\"data row4 col4\" >5.000000</td>\n",
       "      <td id=\"T_9e427_row4_col5\" class=\"data row4 col5\" >6.000000</td>\n",
       "      <td id=\"T_9e427_row4_col6\" class=\"data row4 col6\" >7.000000</td>\n",
       "      <td id=\"T_9e427_row4_col7\" class=\"data row4 col7\" >10.000000</td>\n",
       "    </tr>\n",
       "    <tr>\n",
       "      <th id=\"T_9e427_level0_row5\" class=\"row_heading level0 row5\" >OverallCond</th>\n",
       "      <td id=\"T_9e427_row5_col0\" class=\"data row5 col0\" >1460.000000</td>\n",
       "      <td id=\"T_9e427_row5_col1\" class=\"data row5 col1\" >5.575342</td>\n",
       "      <td id=\"T_9e427_row5_col2\" class=\"data row5 col2\" >1.112799</td>\n",
       "      <td id=\"T_9e427_row5_col3\" class=\"data row5 col3\" >1.000000</td>\n",
       "      <td id=\"T_9e427_row5_col4\" class=\"data row5 col4\" >5.000000</td>\n",
       "      <td id=\"T_9e427_row5_col5\" class=\"data row5 col5\" >5.000000</td>\n",
       "      <td id=\"T_9e427_row5_col6\" class=\"data row5 col6\" >6.000000</td>\n",
       "      <td id=\"T_9e427_row5_col7\" class=\"data row5 col7\" >9.000000</td>\n",
       "    </tr>\n",
       "    <tr>\n",
       "      <th id=\"T_9e427_level0_row6\" class=\"row_heading level0 row6\" >YearBuilt</th>\n",
       "      <td id=\"T_9e427_row6_col0\" class=\"data row6 col0\" >1460.000000</td>\n",
       "      <td id=\"T_9e427_row6_col1\" class=\"data row6 col1\" >1971.267808</td>\n",
       "      <td id=\"T_9e427_row6_col2\" class=\"data row6 col2\" >30.202904</td>\n",
       "      <td id=\"T_9e427_row6_col3\" class=\"data row6 col3\" >1872.000000</td>\n",
       "      <td id=\"T_9e427_row6_col4\" class=\"data row6 col4\" >1954.000000</td>\n",
       "      <td id=\"T_9e427_row6_col5\" class=\"data row6 col5\" >1973.000000</td>\n",
       "      <td id=\"T_9e427_row6_col6\" class=\"data row6 col6\" >2000.000000</td>\n",
       "      <td id=\"T_9e427_row6_col7\" class=\"data row6 col7\" >2010.000000</td>\n",
       "    </tr>\n",
       "    <tr>\n",
       "      <th id=\"T_9e427_level0_row7\" class=\"row_heading level0 row7\" >YearRemodAdd</th>\n",
       "      <td id=\"T_9e427_row7_col0\" class=\"data row7 col0\" >1460.000000</td>\n",
       "      <td id=\"T_9e427_row7_col1\" class=\"data row7 col1\" >1984.865753</td>\n",
       "      <td id=\"T_9e427_row7_col2\" class=\"data row7 col2\" >20.645407</td>\n",
       "      <td id=\"T_9e427_row7_col3\" class=\"data row7 col3\" >1950.000000</td>\n",
       "      <td id=\"T_9e427_row7_col4\" class=\"data row7 col4\" >1967.000000</td>\n",
       "      <td id=\"T_9e427_row7_col5\" class=\"data row7 col5\" >1994.000000</td>\n",
       "      <td id=\"T_9e427_row7_col6\" class=\"data row7 col6\" >2004.000000</td>\n",
       "      <td id=\"T_9e427_row7_col7\" class=\"data row7 col7\" >2010.000000</td>\n",
       "    </tr>\n",
       "    <tr>\n",
       "      <th id=\"T_9e427_level0_row8\" class=\"row_heading level0 row8\" >MasVnrArea</th>\n",
       "      <td id=\"T_9e427_row8_col0\" class=\"data row8 col0\" >1452.000000</td>\n",
       "      <td id=\"T_9e427_row8_col1\" class=\"data row8 col1\" >103.685262</td>\n",
       "      <td id=\"T_9e427_row8_col2\" class=\"data row8 col2\" >181.066207</td>\n",
       "      <td id=\"T_9e427_row8_col3\" class=\"data row8 col3\" >0.000000</td>\n",
       "      <td id=\"T_9e427_row8_col4\" class=\"data row8 col4\" >0.000000</td>\n",
       "      <td id=\"T_9e427_row8_col5\" class=\"data row8 col5\" >0.000000</td>\n",
       "      <td id=\"T_9e427_row8_col6\" class=\"data row8 col6\" >166.000000</td>\n",
       "      <td id=\"T_9e427_row8_col7\" class=\"data row8 col7\" >1600.000000</td>\n",
       "    </tr>\n",
       "    <tr>\n",
       "      <th id=\"T_9e427_level0_row9\" class=\"row_heading level0 row9\" >BsmtFinSF1</th>\n",
       "      <td id=\"T_9e427_row9_col0\" class=\"data row9 col0\" >1460.000000</td>\n",
       "      <td id=\"T_9e427_row9_col1\" class=\"data row9 col1\" >443.639726</td>\n",
       "      <td id=\"T_9e427_row9_col2\" class=\"data row9 col2\" >456.098091</td>\n",
       "      <td id=\"T_9e427_row9_col3\" class=\"data row9 col3\" >0.000000</td>\n",
       "      <td id=\"T_9e427_row9_col4\" class=\"data row9 col4\" >0.000000</td>\n",
       "      <td id=\"T_9e427_row9_col5\" class=\"data row9 col5\" >383.500000</td>\n",
       "      <td id=\"T_9e427_row9_col6\" class=\"data row9 col6\" >712.250000</td>\n",
       "      <td id=\"T_9e427_row9_col7\" class=\"data row9 col7\" >5644.000000</td>\n",
       "    </tr>\n",
       "    <tr>\n",
       "      <th id=\"T_9e427_level0_row10\" class=\"row_heading level0 row10\" >BsmtFinSF2</th>\n",
       "      <td id=\"T_9e427_row10_col0\" class=\"data row10 col0\" >1460.000000</td>\n",
       "      <td id=\"T_9e427_row10_col1\" class=\"data row10 col1\" >46.549315</td>\n",
       "      <td id=\"T_9e427_row10_col2\" class=\"data row10 col2\" >161.319273</td>\n",
       "      <td id=\"T_9e427_row10_col3\" class=\"data row10 col3\" >0.000000</td>\n",
       "      <td id=\"T_9e427_row10_col4\" class=\"data row10 col4\" >0.000000</td>\n",
       "      <td id=\"T_9e427_row10_col5\" class=\"data row10 col5\" >0.000000</td>\n",
       "      <td id=\"T_9e427_row10_col6\" class=\"data row10 col6\" >0.000000</td>\n",
       "      <td id=\"T_9e427_row10_col7\" class=\"data row10 col7\" >1474.000000</td>\n",
       "    </tr>\n",
       "    <tr>\n",
       "      <th id=\"T_9e427_level0_row11\" class=\"row_heading level0 row11\" >BsmtUnfSF</th>\n",
       "      <td id=\"T_9e427_row11_col0\" class=\"data row11 col0\" >1460.000000</td>\n",
       "      <td id=\"T_9e427_row11_col1\" class=\"data row11 col1\" >567.240411</td>\n",
       "      <td id=\"T_9e427_row11_col2\" class=\"data row11 col2\" >441.866955</td>\n",
       "      <td id=\"T_9e427_row11_col3\" class=\"data row11 col3\" >0.000000</td>\n",
       "      <td id=\"T_9e427_row11_col4\" class=\"data row11 col4\" >223.000000</td>\n",
       "      <td id=\"T_9e427_row11_col5\" class=\"data row11 col5\" >477.500000</td>\n",
       "      <td id=\"T_9e427_row11_col6\" class=\"data row11 col6\" >808.000000</td>\n",
       "      <td id=\"T_9e427_row11_col7\" class=\"data row11 col7\" >2336.000000</td>\n",
       "    </tr>\n",
       "    <tr>\n",
       "      <th id=\"T_9e427_level0_row12\" class=\"row_heading level0 row12\" >TotalBsmtSF</th>\n",
       "      <td id=\"T_9e427_row12_col0\" class=\"data row12 col0\" >1460.000000</td>\n",
       "      <td id=\"T_9e427_row12_col1\" class=\"data row12 col1\" >1057.429452</td>\n",
       "      <td id=\"T_9e427_row12_col2\" class=\"data row12 col2\" >438.705324</td>\n",
       "      <td id=\"T_9e427_row12_col3\" class=\"data row12 col3\" >0.000000</td>\n",
       "      <td id=\"T_9e427_row12_col4\" class=\"data row12 col4\" >795.750000</td>\n",
       "      <td id=\"T_9e427_row12_col5\" class=\"data row12 col5\" >991.500000</td>\n",
       "      <td id=\"T_9e427_row12_col6\" class=\"data row12 col6\" >1298.250000</td>\n",
       "      <td id=\"T_9e427_row12_col7\" class=\"data row12 col7\" >6110.000000</td>\n",
       "    </tr>\n",
       "    <tr>\n",
       "      <th id=\"T_9e427_level0_row13\" class=\"row_heading level0 row13\" >1stFlrSF</th>\n",
       "      <td id=\"T_9e427_row13_col0\" class=\"data row13 col0\" >1460.000000</td>\n",
       "      <td id=\"T_9e427_row13_col1\" class=\"data row13 col1\" >1162.626712</td>\n",
       "      <td id=\"T_9e427_row13_col2\" class=\"data row13 col2\" >386.587738</td>\n",
       "      <td id=\"T_9e427_row13_col3\" class=\"data row13 col3\" >334.000000</td>\n",
       "      <td id=\"T_9e427_row13_col4\" class=\"data row13 col4\" >882.000000</td>\n",
       "      <td id=\"T_9e427_row13_col5\" class=\"data row13 col5\" >1087.000000</td>\n",
       "      <td id=\"T_9e427_row13_col6\" class=\"data row13 col6\" >1391.250000</td>\n",
       "      <td id=\"T_9e427_row13_col7\" class=\"data row13 col7\" >4692.000000</td>\n",
       "    </tr>\n",
       "    <tr>\n",
       "      <th id=\"T_9e427_level0_row14\" class=\"row_heading level0 row14\" >2ndFlrSF</th>\n",
       "      <td id=\"T_9e427_row14_col0\" class=\"data row14 col0\" >1460.000000</td>\n",
       "      <td id=\"T_9e427_row14_col1\" class=\"data row14 col1\" >346.992466</td>\n",
       "      <td id=\"T_9e427_row14_col2\" class=\"data row14 col2\" >436.528436</td>\n",
       "      <td id=\"T_9e427_row14_col3\" class=\"data row14 col3\" >0.000000</td>\n",
       "      <td id=\"T_9e427_row14_col4\" class=\"data row14 col4\" >0.000000</td>\n",
       "      <td id=\"T_9e427_row14_col5\" class=\"data row14 col5\" >0.000000</td>\n",
       "      <td id=\"T_9e427_row14_col6\" class=\"data row14 col6\" >728.000000</td>\n",
       "      <td id=\"T_9e427_row14_col7\" class=\"data row14 col7\" >2065.000000</td>\n",
       "    </tr>\n",
       "    <tr>\n",
       "      <th id=\"T_9e427_level0_row15\" class=\"row_heading level0 row15\" >LowQualFinSF</th>\n",
       "      <td id=\"T_9e427_row15_col0\" class=\"data row15 col0\" >1460.000000</td>\n",
       "      <td id=\"T_9e427_row15_col1\" class=\"data row15 col1\" >5.844521</td>\n",
       "      <td id=\"T_9e427_row15_col2\" class=\"data row15 col2\" >48.623081</td>\n",
       "      <td id=\"T_9e427_row15_col3\" class=\"data row15 col3\" >0.000000</td>\n",
       "      <td id=\"T_9e427_row15_col4\" class=\"data row15 col4\" >0.000000</td>\n",
       "      <td id=\"T_9e427_row15_col5\" class=\"data row15 col5\" >0.000000</td>\n",
       "      <td id=\"T_9e427_row15_col6\" class=\"data row15 col6\" >0.000000</td>\n",
       "      <td id=\"T_9e427_row15_col7\" class=\"data row15 col7\" >572.000000</td>\n",
       "    </tr>\n",
       "    <tr>\n",
       "      <th id=\"T_9e427_level0_row16\" class=\"row_heading level0 row16\" >GrLivArea</th>\n",
       "      <td id=\"T_9e427_row16_col0\" class=\"data row16 col0\" >1460.000000</td>\n",
       "      <td id=\"T_9e427_row16_col1\" class=\"data row16 col1\" >1515.463699</td>\n",
       "      <td id=\"T_9e427_row16_col2\" class=\"data row16 col2\" >525.480383</td>\n",
       "      <td id=\"T_9e427_row16_col3\" class=\"data row16 col3\" >334.000000</td>\n",
       "      <td id=\"T_9e427_row16_col4\" class=\"data row16 col4\" >1129.500000</td>\n",
       "      <td id=\"T_9e427_row16_col5\" class=\"data row16 col5\" >1464.000000</td>\n",
       "      <td id=\"T_9e427_row16_col6\" class=\"data row16 col6\" >1776.750000</td>\n",
       "      <td id=\"T_9e427_row16_col7\" class=\"data row16 col7\" >5642.000000</td>\n",
       "    </tr>\n",
       "    <tr>\n",
       "      <th id=\"T_9e427_level0_row17\" class=\"row_heading level0 row17\" >BsmtFullBath</th>\n",
       "      <td id=\"T_9e427_row17_col0\" class=\"data row17 col0\" >1460.000000</td>\n",
       "      <td id=\"T_9e427_row17_col1\" class=\"data row17 col1\" >0.425342</td>\n",
       "      <td id=\"T_9e427_row17_col2\" class=\"data row17 col2\" >0.518911</td>\n",
       "      <td id=\"T_9e427_row17_col3\" class=\"data row17 col3\" >0.000000</td>\n",
       "      <td id=\"T_9e427_row17_col4\" class=\"data row17 col4\" >0.000000</td>\n",
       "      <td id=\"T_9e427_row17_col5\" class=\"data row17 col5\" >0.000000</td>\n",
       "      <td id=\"T_9e427_row17_col6\" class=\"data row17 col6\" >1.000000</td>\n",
       "      <td id=\"T_9e427_row17_col7\" class=\"data row17 col7\" >3.000000</td>\n",
       "    </tr>\n",
       "    <tr>\n",
       "      <th id=\"T_9e427_level0_row18\" class=\"row_heading level0 row18\" >BsmtHalfBath</th>\n",
       "      <td id=\"T_9e427_row18_col0\" class=\"data row18 col0\" >1460.000000</td>\n",
       "      <td id=\"T_9e427_row18_col1\" class=\"data row18 col1\" >0.057534</td>\n",
       "      <td id=\"T_9e427_row18_col2\" class=\"data row18 col2\" >0.238753</td>\n",
       "      <td id=\"T_9e427_row18_col3\" class=\"data row18 col3\" >0.000000</td>\n",
       "      <td id=\"T_9e427_row18_col4\" class=\"data row18 col4\" >0.000000</td>\n",
       "      <td id=\"T_9e427_row18_col5\" class=\"data row18 col5\" >0.000000</td>\n",
       "      <td id=\"T_9e427_row18_col6\" class=\"data row18 col6\" >0.000000</td>\n",
       "      <td id=\"T_9e427_row18_col7\" class=\"data row18 col7\" >2.000000</td>\n",
       "    </tr>\n",
       "    <tr>\n",
       "      <th id=\"T_9e427_level0_row19\" class=\"row_heading level0 row19\" >FullBath</th>\n",
       "      <td id=\"T_9e427_row19_col0\" class=\"data row19 col0\" >1460.000000</td>\n",
       "      <td id=\"T_9e427_row19_col1\" class=\"data row19 col1\" >1.565068</td>\n",
       "      <td id=\"T_9e427_row19_col2\" class=\"data row19 col2\" >0.550916</td>\n",
       "      <td id=\"T_9e427_row19_col3\" class=\"data row19 col3\" >0.000000</td>\n",
       "      <td id=\"T_9e427_row19_col4\" class=\"data row19 col4\" >1.000000</td>\n",
       "      <td id=\"T_9e427_row19_col5\" class=\"data row19 col5\" >2.000000</td>\n",
       "      <td id=\"T_9e427_row19_col6\" class=\"data row19 col6\" >2.000000</td>\n",
       "      <td id=\"T_9e427_row19_col7\" class=\"data row19 col7\" >3.000000</td>\n",
       "    </tr>\n",
       "    <tr>\n",
       "      <th id=\"T_9e427_level0_row20\" class=\"row_heading level0 row20\" >HalfBath</th>\n",
       "      <td id=\"T_9e427_row20_col0\" class=\"data row20 col0\" >1460.000000</td>\n",
       "      <td id=\"T_9e427_row20_col1\" class=\"data row20 col1\" >0.382877</td>\n",
       "      <td id=\"T_9e427_row20_col2\" class=\"data row20 col2\" >0.502885</td>\n",
       "      <td id=\"T_9e427_row20_col3\" class=\"data row20 col3\" >0.000000</td>\n",
       "      <td id=\"T_9e427_row20_col4\" class=\"data row20 col4\" >0.000000</td>\n",
       "      <td id=\"T_9e427_row20_col5\" class=\"data row20 col5\" >0.000000</td>\n",
       "      <td id=\"T_9e427_row20_col6\" class=\"data row20 col6\" >1.000000</td>\n",
       "      <td id=\"T_9e427_row20_col7\" class=\"data row20 col7\" >2.000000</td>\n",
       "    </tr>\n",
       "    <tr>\n",
       "      <th id=\"T_9e427_level0_row21\" class=\"row_heading level0 row21\" >BedroomAbvGr</th>\n",
       "      <td id=\"T_9e427_row21_col0\" class=\"data row21 col0\" >1460.000000</td>\n",
       "      <td id=\"T_9e427_row21_col1\" class=\"data row21 col1\" >2.866438</td>\n",
       "      <td id=\"T_9e427_row21_col2\" class=\"data row21 col2\" >0.815778</td>\n",
       "      <td id=\"T_9e427_row21_col3\" class=\"data row21 col3\" >0.000000</td>\n",
       "      <td id=\"T_9e427_row21_col4\" class=\"data row21 col4\" >2.000000</td>\n",
       "      <td id=\"T_9e427_row21_col5\" class=\"data row21 col5\" >3.000000</td>\n",
       "      <td id=\"T_9e427_row21_col6\" class=\"data row21 col6\" >3.000000</td>\n",
       "      <td id=\"T_9e427_row21_col7\" class=\"data row21 col7\" >8.000000</td>\n",
       "    </tr>\n",
       "    <tr>\n",
       "      <th id=\"T_9e427_level0_row22\" class=\"row_heading level0 row22\" >KitchenAbvGr</th>\n",
       "      <td id=\"T_9e427_row22_col0\" class=\"data row22 col0\" >1460.000000</td>\n",
       "      <td id=\"T_9e427_row22_col1\" class=\"data row22 col1\" >1.046575</td>\n",
       "      <td id=\"T_9e427_row22_col2\" class=\"data row22 col2\" >0.220338</td>\n",
       "      <td id=\"T_9e427_row22_col3\" class=\"data row22 col3\" >0.000000</td>\n",
       "      <td id=\"T_9e427_row22_col4\" class=\"data row22 col4\" >1.000000</td>\n",
       "      <td id=\"T_9e427_row22_col5\" class=\"data row22 col5\" >1.000000</td>\n",
       "      <td id=\"T_9e427_row22_col6\" class=\"data row22 col6\" >1.000000</td>\n",
       "      <td id=\"T_9e427_row22_col7\" class=\"data row22 col7\" >3.000000</td>\n",
       "    </tr>\n",
       "    <tr>\n",
       "      <th id=\"T_9e427_level0_row23\" class=\"row_heading level0 row23\" >TotRmsAbvGrd</th>\n",
       "      <td id=\"T_9e427_row23_col0\" class=\"data row23 col0\" >1460.000000</td>\n",
       "      <td id=\"T_9e427_row23_col1\" class=\"data row23 col1\" >6.517808</td>\n",
       "      <td id=\"T_9e427_row23_col2\" class=\"data row23 col2\" >1.625393</td>\n",
       "      <td id=\"T_9e427_row23_col3\" class=\"data row23 col3\" >2.000000</td>\n",
       "      <td id=\"T_9e427_row23_col4\" class=\"data row23 col4\" >5.000000</td>\n",
       "      <td id=\"T_9e427_row23_col5\" class=\"data row23 col5\" >6.000000</td>\n",
       "      <td id=\"T_9e427_row23_col6\" class=\"data row23 col6\" >7.000000</td>\n",
       "      <td id=\"T_9e427_row23_col7\" class=\"data row23 col7\" >14.000000</td>\n",
       "    </tr>\n",
       "    <tr>\n",
       "      <th id=\"T_9e427_level0_row24\" class=\"row_heading level0 row24\" >Fireplaces</th>\n",
       "      <td id=\"T_9e427_row24_col0\" class=\"data row24 col0\" >1460.000000</td>\n",
       "      <td id=\"T_9e427_row24_col1\" class=\"data row24 col1\" >0.613014</td>\n",
       "      <td id=\"T_9e427_row24_col2\" class=\"data row24 col2\" >0.644666</td>\n",
       "      <td id=\"T_9e427_row24_col3\" class=\"data row24 col3\" >0.000000</td>\n",
       "      <td id=\"T_9e427_row24_col4\" class=\"data row24 col4\" >0.000000</td>\n",
       "      <td id=\"T_9e427_row24_col5\" class=\"data row24 col5\" >1.000000</td>\n",
       "      <td id=\"T_9e427_row24_col6\" class=\"data row24 col6\" >1.000000</td>\n",
       "      <td id=\"T_9e427_row24_col7\" class=\"data row24 col7\" >3.000000</td>\n",
       "    </tr>\n",
       "    <tr>\n",
       "      <th id=\"T_9e427_level0_row25\" class=\"row_heading level0 row25\" >GarageYrBlt</th>\n",
       "      <td id=\"T_9e427_row25_col0\" class=\"data row25 col0\" >1379.000000</td>\n",
       "      <td id=\"T_9e427_row25_col1\" class=\"data row25 col1\" >1978.506164</td>\n",
       "      <td id=\"T_9e427_row25_col2\" class=\"data row25 col2\" >24.689725</td>\n",
       "      <td id=\"T_9e427_row25_col3\" class=\"data row25 col3\" >1900.000000</td>\n",
       "      <td id=\"T_9e427_row25_col4\" class=\"data row25 col4\" >1961.000000</td>\n",
       "      <td id=\"T_9e427_row25_col5\" class=\"data row25 col5\" >1980.000000</td>\n",
       "      <td id=\"T_9e427_row25_col6\" class=\"data row25 col6\" >2002.000000</td>\n",
       "      <td id=\"T_9e427_row25_col7\" class=\"data row25 col7\" >2010.000000</td>\n",
       "    </tr>\n",
       "    <tr>\n",
       "      <th id=\"T_9e427_level0_row26\" class=\"row_heading level0 row26\" >GarageCars</th>\n",
       "      <td id=\"T_9e427_row26_col0\" class=\"data row26 col0\" >1460.000000</td>\n",
       "      <td id=\"T_9e427_row26_col1\" class=\"data row26 col1\" >1.767123</td>\n",
       "      <td id=\"T_9e427_row26_col2\" class=\"data row26 col2\" >0.747315</td>\n",
       "      <td id=\"T_9e427_row26_col3\" class=\"data row26 col3\" >0.000000</td>\n",
       "      <td id=\"T_9e427_row26_col4\" class=\"data row26 col4\" >1.000000</td>\n",
       "      <td id=\"T_9e427_row26_col5\" class=\"data row26 col5\" >2.000000</td>\n",
       "      <td id=\"T_9e427_row26_col6\" class=\"data row26 col6\" >2.000000</td>\n",
       "      <td id=\"T_9e427_row26_col7\" class=\"data row26 col7\" >4.000000</td>\n",
       "    </tr>\n",
       "    <tr>\n",
       "      <th id=\"T_9e427_level0_row27\" class=\"row_heading level0 row27\" >GarageArea</th>\n",
       "      <td id=\"T_9e427_row27_col0\" class=\"data row27 col0\" >1460.000000</td>\n",
       "      <td id=\"T_9e427_row27_col1\" class=\"data row27 col1\" >472.980137</td>\n",
       "      <td id=\"T_9e427_row27_col2\" class=\"data row27 col2\" >213.804841</td>\n",
       "      <td id=\"T_9e427_row27_col3\" class=\"data row27 col3\" >0.000000</td>\n",
       "      <td id=\"T_9e427_row27_col4\" class=\"data row27 col4\" >334.500000</td>\n",
       "      <td id=\"T_9e427_row27_col5\" class=\"data row27 col5\" >480.000000</td>\n",
       "      <td id=\"T_9e427_row27_col6\" class=\"data row27 col6\" >576.000000</td>\n",
       "      <td id=\"T_9e427_row27_col7\" class=\"data row27 col7\" >1418.000000</td>\n",
       "    </tr>\n",
       "    <tr>\n",
       "      <th id=\"T_9e427_level0_row28\" class=\"row_heading level0 row28\" >WoodDeckSF</th>\n",
       "      <td id=\"T_9e427_row28_col0\" class=\"data row28 col0\" >1460.000000</td>\n",
       "      <td id=\"T_9e427_row28_col1\" class=\"data row28 col1\" >94.244521</td>\n",
       "      <td id=\"T_9e427_row28_col2\" class=\"data row28 col2\" >125.338794</td>\n",
       "      <td id=\"T_9e427_row28_col3\" class=\"data row28 col3\" >0.000000</td>\n",
       "      <td id=\"T_9e427_row28_col4\" class=\"data row28 col4\" >0.000000</td>\n",
       "      <td id=\"T_9e427_row28_col5\" class=\"data row28 col5\" >0.000000</td>\n",
       "      <td id=\"T_9e427_row28_col6\" class=\"data row28 col6\" >168.000000</td>\n",
       "      <td id=\"T_9e427_row28_col7\" class=\"data row28 col7\" >857.000000</td>\n",
       "    </tr>\n",
       "    <tr>\n",
       "      <th id=\"T_9e427_level0_row29\" class=\"row_heading level0 row29\" >OpenPorchSF</th>\n",
       "      <td id=\"T_9e427_row29_col0\" class=\"data row29 col0\" >1460.000000</td>\n",
       "      <td id=\"T_9e427_row29_col1\" class=\"data row29 col1\" >46.660274</td>\n",
       "      <td id=\"T_9e427_row29_col2\" class=\"data row29 col2\" >66.256028</td>\n",
       "      <td id=\"T_9e427_row29_col3\" class=\"data row29 col3\" >0.000000</td>\n",
       "      <td id=\"T_9e427_row29_col4\" class=\"data row29 col4\" >0.000000</td>\n",
       "      <td id=\"T_9e427_row29_col5\" class=\"data row29 col5\" >25.000000</td>\n",
       "      <td id=\"T_9e427_row29_col6\" class=\"data row29 col6\" >68.000000</td>\n",
       "      <td id=\"T_9e427_row29_col7\" class=\"data row29 col7\" >547.000000</td>\n",
       "    </tr>\n",
       "    <tr>\n",
       "      <th id=\"T_9e427_level0_row30\" class=\"row_heading level0 row30\" >EnclosedPorch</th>\n",
       "      <td id=\"T_9e427_row30_col0\" class=\"data row30 col0\" >1460.000000</td>\n",
       "      <td id=\"T_9e427_row30_col1\" class=\"data row30 col1\" >21.954110</td>\n",
       "      <td id=\"T_9e427_row30_col2\" class=\"data row30 col2\" >61.119149</td>\n",
       "      <td id=\"T_9e427_row30_col3\" class=\"data row30 col3\" >0.000000</td>\n",
       "      <td id=\"T_9e427_row30_col4\" class=\"data row30 col4\" >0.000000</td>\n",
       "      <td id=\"T_9e427_row30_col5\" class=\"data row30 col5\" >0.000000</td>\n",
       "      <td id=\"T_9e427_row30_col6\" class=\"data row30 col6\" >0.000000</td>\n",
       "      <td id=\"T_9e427_row30_col7\" class=\"data row30 col7\" >552.000000</td>\n",
       "    </tr>\n",
       "    <tr>\n",
       "      <th id=\"T_9e427_level0_row31\" class=\"row_heading level0 row31\" >3SsnPorch</th>\n",
       "      <td id=\"T_9e427_row31_col0\" class=\"data row31 col0\" >1460.000000</td>\n",
       "      <td id=\"T_9e427_row31_col1\" class=\"data row31 col1\" >3.409589</td>\n",
       "      <td id=\"T_9e427_row31_col2\" class=\"data row31 col2\" >29.317331</td>\n",
       "      <td id=\"T_9e427_row31_col3\" class=\"data row31 col3\" >0.000000</td>\n",
       "      <td id=\"T_9e427_row31_col4\" class=\"data row31 col4\" >0.000000</td>\n",
       "      <td id=\"T_9e427_row31_col5\" class=\"data row31 col5\" >0.000000</td>\n",
       "      <td id=\"T_9e427_row31_col6\" class=\"data row31 col6\" >0.000000</td>\n",
       "      <td id=\"T_9e427_row31_col7\" class=\"data row31 col7\" >508.000000</td>\n",
       "    </tr>\n",
       "    <tr>\n",
       "      <th id=\"T_9e427_level0_row32\" class=\"row_heading level0 row32\" >ScreenPorch</th>\n",
       "      <td id=\"T_9e427_row32_col0\" class=\"data row32 col0\" >1460.000000</td>\n",
       "      <td id=\"T_9e427_row32_col1\" class=\"data row32 col1\" >15.060959</td>\n",
       "      <td id=\"T_9e427_row32_col2\" class=\"data row32 col2\" >55.757415</td>\n",
       "      <td id=\"T_9e427_row32_col3\" class=\"data row32 col3\" >0.000000</td>\n",
       "      <td id=\"T_9e427_row32_col4\" class=\"data row32 col4\" >0.000000</td>\n",
       "      <td id=\"T_9e427_row32_col5\" class=\"data row32 col5\" >0.000000</td>\n",
       "      <td id=\"T_9e427_row32_col6\" class=\"data row32 col6\" >0.000000</td>\n",
       "      <td id=\"T_9e427_row32_col7\" class=\"data row32 col7\" >480.000000</td>\n",
       "    </tr>\n",
       "    <tr>\n",
       "      <th id=\"T_9e427_level0_row33\" class=\"row_heading level0 row33\" >PoolArea</th>\n",
       "      <td id=\"T_9e427_row33_col0\" class=\"data row33 col0\" >1460.000000</td>\n",
       "      <td id=\"T_9e427_row33_col1\" class=\"data row33 col1\" >2.758904</td>\n",
       "      <td id=\"T_9e427_row33_col2\" class=\"data row33 col2\" >40.177307</td>\n",
       "      <td id=\"T_9e427_row33_col3\" class=\"data row33 col3\" >0.000000</td>\n",
       "      <td id=\"T_9e427_row33_col4\" class=\"data row33 col4\" >0.000000</td>\n",
       "      <td id=\"T_9e427_row33_col5\" class=\"data row33 col5\" >0.000000</td>\n",
       "      <td id=\"T_9e427_row33_col6\" class=\"data row33 col6\" >0.000000</td>\n",
       "      <td id=\"T_9e427_row33_col7\" class=\"data row33 col7\" >738.000000</td>\n",
       "    </tr>\n",
       "    <tr>\n",
       "      <th id=\"T_9e427_level0_row34\" class=\"row_heading level0 row34\" >MiscVal</th>\n",
       "      <td id=\"T_9e427_row34_col0\" class=\"data row34 col0\" >1460.000000</td>\n",
       "      <td id=\"T_9e427_row34_col1\" class=\"data row34 col1\" >43.489041</td>\n",
       "      <td id=\"T_9e427_row34_col2\" class=\"data row34 col2\" >496.123024</td>\n",
       "      <td id=\"T_9e427_row34_col3\" class=\"data row34 col3\" >0.000000</td>\n",
       "      <td id=\"T_9e427_row34_col4\" class=\"data row34 col4\" >0.000000</td>\n",
       "      <td id=\"T_9e427_row34_col5\" class=\"data row34 col5\" >0.000000</td>\n",
       "      <td id=\"T_9e427_row34_col6\" class=\"data row34 col6\" >0.000000</td>\n",
       "      <td id=\"T_9e427_row34_col7\" class=\"data row34 col7\" >15500.000000</td>\n",
       "    </tr>\n",
       "    <tr>\n",
       "      <th id=\"T_9e427_level0_row35\" class=\"row_heading level0 row35\" >MoSold</th>\n",
       "      <td id=\"T_9e427_row35_col0\" class=\"data row35 col0\" >1460.000000</td>\n",
       "      <td id=\"T_9e427_row35_col1\" class=\"data row35 col1\" >6.321918</td>\n",
       "      <td id=\"T_9e427_row35_col2\" class=\"data row35 col2\" >2.703626</td>\n",
       "      <td id=\"T_9e427_row35_col3\" class=\"data row35 col3\" >1.000000</td>\n",
       "      <td id=\"T_9e427_row35_col4\" class=\"data row35 col4\" >5.000000</td>\n",
       "      <td id=\"T_9e427_row35_col5\" class=\"data row35 col5\" >6.000000</td>\n",
       "      <td id=\"T_9e427_row35_col6\" class=\"data row35 col6\" >8.000000</td>\n",
       "      <td id=\"T_9e427_row35_col7\" class=\"data row35 col7\" >12.000000</td>\n",
       "    </tr>\n",
       "    <tr>\n",
       "      <th id=\"T_9e427_level0_row36\" class=\"row_heading level0 row36\" >YrSold</th>\n",
       "      <td id=\"T_9e427_row36_col0\" class=\"data row36 col0\" >1460.000000</td>\n",
       "      <td id=\"T_9e427_row36_col1\" class=\"data row36 col1\" >2007.815753</td>\n",
       "      <td id=\"T_9e427_row36_col2\" class=\"data row36 col2\" >1.328095</td>\n",
       "      <td id=\"T_9e427_row36_col3\" class=\"data row36 col3\" >2006.000000</td>\n",
       "      <td id=\"T_9e427_row36_col4\" class=\"data row36 col4\" >2007.000000</td>\n",
       "      <td id=\"T_9e427_row36_col5\" class=\"data row36 col5\" >2008.000000</td>\n",
       "      <td id=\"T_9e427_row36_col6\" class=\"data row36 col6\" >2009.000000</td>\n",
       "      <td id=\"T_9e427_row36_col7\" class=\"data row36 col7\" >2010.000000</td>\n",
       "    </tr>\n",
       "    <tr>\n",
       "      <th id=\"T_9e427_level0_row37\" class=\"row_heading level0 row37\" >SalePrice</th>\n",
       "      <td id=\"T_9e427_row37_col0\" class=\"data row37 col0\" >1460.000000</td>\n",
       "      <td id=\"T_9e427_row37_col1\" class=\"data row37 col1\" >180921.195890</td>\n",
       "      <td id=\"T_9e427_row37_col2\" class=\"data row37 col2\" >79442.502883</td>\n",
       "      <td id=\"T_9e427_row37_col3\" class=\"data row37 col3\" >34900.000000</td>\n",
       "      <td id=\"T_9e427_row37_col4\" class=\"data row37 col4\" >129975.000000</td>\n",
       "      <td id=\"T_9e427_row37_col5\" class=\"data row37 col5\" >163000.000000</td>\n",
       "      <td id=\"T_9e427_row37_col6\" class=\"data row37 col6\" >214000.000000</td>\n",
       "      <td id=\"T_9e427_row37_col7\" class=\"data row37 col7\" >755000.000000</td>\n",
       "    </tr>\n",
       "  </tbody>\n",
       "</table>\n"
      ],
      "text/plain": [
       "<pandas.io.formats.style.Styler at 0x7fbcb01851d0>"
      ]
     },
     "execution_count": 10,
     "metadata": {},
     "output_type": "execute_result"
    }
   ],
   "source": [
    "#description for the dataset \n",
    "data_train.describe().transpose().style.background_gradient(cmap = 'magma') "
   ]
  },
  {
   "cell_type": "markdown",
   "id": "e96633e6-c6a6-45d8-beb9-66e63bd5821a",
   "metadata": {},
   "source": [
    "## Feature Engineering "
   ]
  },
  {
   "cell_type": "code",
   "execution_count": 11,
   "id": "d97e3dd1-7146-4a0e-93c8-55ba42bd1b07",
   "metadata": {
    "ExecuteTime": {
     "end_time": "2022-08-05T21:29:59.460006Z",
     "start_time": "2022-08-05T21:29:59.454687Z"
    }
   },
   "outputs": [],
   "source": [
    "#feature engineer \n",
    "# check if have null value in the train set and test set features\n",
    "def check_null_value(data): \n",
    "    \"\"\"\n",
    "    data is train_data and test data \n",
    "    we want to know which column has null values\n",
    "    \"\"\"\n",
    "    data_null =  pd.DataFrame(data.isnull().mean() ,columns = ['null rate']) .reset_index()  \n",
    "    data_null.columns = ['column name', 'null rates']  \n",
    "    \n",
    "    null_value_feature = [] \n",
    "    for value in zip(data_null.loc[:,'column name'].tolist(),data_null.loc[:,'null rates'].tolist()): \n",
    "        if value[1] >0: \n",
    "            null_value_feature.append(value[0]) \n",
    "        else: \n",
    "            continue \n",
    "    return null_value_feature  "
   ]
  },
  {
   "cell_type": "code",
   "execution_count": 12,
   "id": "b1fc6fe9-33dc-41d9-aed8-4043dfa4846e",
   "metadata": {
    "ExecuteTime": {
     "end_time": "2022-08-05T21:30:00.278911Z",
     "start_time": "2022-08-05T21:30:00.267378Z"
    }
   },
   "outputs": [
    {
     "data": {
      "text/plain": [
       "['LotFrontage',\n",
       " 'Alley',\n",
       " 'MasVnrType',\n",
       " 'MasVnrArea',\n",
       " 'BsmtQual',\n",
       " 'BsmtCond',\n",
       " 'BsmtExposure',\n",
       " 'BsmtFinType1',\n",
       " 'BsmtFinType2',\n",
       " 'Electrical',\n",
       " 'FireplaceQu',\n",
       " 'GarageType',\n",
       " 'GarageYrBlt',\n",
       " 'GarageFinish',\n",
       " 'GarageQual',\n",
       " 'GarageCond',\n",
       " 'PoolQC',\n",
       " 'Fence',\n",
       " 'MiscFeature']"
      ]
     },
     "execution_count": 12,
     "metadata": {},
     "output_type": "execute_result"
    }
   ],
   "source": [
    "# the features in train set  has null values \n",
    "check_null_value(data_train)"
   ]
  },
  {
   "cell_type": "code",
   "execution_count": 13,
   "id": "b1e11df5-f15f-410f-bda7-a915612b8bf8",
   "metadata": {
    "ExecuteTime": {
     "end_time": "2022-08-05T21:30:00.598788Z",
     "start_time": "2022-08-05T21:30:00.587001Z"
    }
   },
   "outputs": [
    {
     "data": {
      "text/plain": [
       "['MSZoning',\n",
       " 'LotFrontage',\n",
       " 'Alley',\n",
       " 'Utilities',\n",
       " 'Exterior1st',\n",
       " 'Exterior2nd',\n",
       " 'MasVnrType',\n",
       " 'MasVnrArea',\n",
       " 'BsmtQual',\n",
       " 'BsmtCond',\n",
       " 'BsmtExposure',\n",
       " 'BsmtFinType1',\n",
       " 'BsmtFinSF1',\n",
       " 'BsmtFinType2',\n",
       " 'BsmtFinSF2',\n",
       " 'BsmtUnfSF',\n",
       " 'TotalBsmtSF',\n",
       " 'BsmtFullBath',\n",
       " 'BsmtHalfBath',\n",
       " 'KitchenQual',\n",
       " 'Functional',\n",
       " 'FireplaceQu',\n",
       " 'GarageType',\n",
       " 'GarageYrBlt',\n",
       " 'GarageFinish',\n",
       " 'GarageCars',\n",
       " 'GarageArea',\n",
       " 'GarageQual',\n",
       " 'GarageCond',\n",
       " 'PoolQC',\n",
       " 'Fence',\n",
       " 'MiscFeature',\n",
       " 'SaleType']"
      ]
     },
     "execution_count": 13,
     "metadata": {},
     "output_type": "execute_result"
    }
   ],
   "source": [
    "# the features in test set  has null values \n",
    "check_null_value(data_test) "
   ]
  },
  {
   "cell_type": "code",
   "execution_count": 14,
   "id": "0eef2567-385a-4d21-b656-367afbda395c",
   "metadata": {
    "ExecuteTime": {
     "end_time": "2022-08-05T21:30:00.946948Z",
     "start_time": "2022-08-05T21:30:00.931082Z"
    }
   },
   "outputs": [
    {
     "name": "stdout",
     "output_type": "stream",
     "text": [
      "there are 19 features which have nan  in the train set\n",
      "\n",
      "\n",
      "there are 33 features which have nan in the test set\n"
     ]
    }
   ],
   "source": [
    "#how many features which have null values in trainset and test set \n",
    "print('there are {} features which have nan  in the train set'.format(len(check_null_value(data_train)))) \n",
    "print('\\n') \n",
    "print('there are {} features which have nan in the test set'.format(len(check_null_value(data_test)))) "
   ]
  },
  {
   "cell_type": "markdown",
   "id": "669065a2-810e-402b-aea2-72abd83fffec",
   "metadata": {},
   "source": [
    "### NA value in train set "
   ]
  },
  {
   "cell_type": "code",
   "execution_count": 15,
   "id": "3361e12a-8116-4385-93e3-15e8339f7354",
   "metadata": {
    "ExecuteTime": {
     "end_time": "2022-08-05T21:30:01.731540Z",
     "start_time": "2022-08-05T21:30:01.710574Z"
    }
   },
   "outputs": [
    {
     "name": "stdout",
     "output_type": "stream",
     "text": [
      "<class 'pandas.core.frame.DataFrame'>\n",
      "RangeIndex: 1460 entries, 0 to 1459\n",
      "Data columns (total 81 columns):\n",
      " #   Column         Non-Null Count  Dtype  \n",
      "---  ------         --------------  -----  \n",
      " 0   Id             1460 non-null   int64  \n",
      " 1   MSSubClass     1460 non-null   int64  \n",
      " 2   MSZoning       1460 non-null   object \n",
      " 3   LotFrontage    1201 non-null   float64\n",
      " 4   LotArea        1460 non-null   int64  \n",
      " 5   Street         1460 non-null   object \n",
      " 6   Alley          91 non-null     object \n",
      " 7   LotShape       1460 non-null   object \n",
      " 8   LandContour    1460 non-null   object \n",
      " 9   Utilities      1460 non-null   object \n",
      " 10  LotConfig      1460 non-null   object \n",
      " 11  LandSlope      1460 non-null   object \n",
      " 12  Neighborhood   1460 non-null   object \n",
      " 13  Condition1     1460 non-null   object \n",
      " 14  Condition2     1460 non-null   object \n",
      " 15  BldgType       1460 non-null   object \n",
      " 16  HouseStyle     1460 non-null   object \n",
      " 17  OverallQual    1460 non-null   int64  \n",
      " 18  OverallCond    1460 non-null   int64  \n",
      " 19  YearBuilt      1460 non-null   int64  \n",
      " 20  YearRemodAdd   1460 non-null   int64  \n",
      " 21  RoofStyle      1460 non-null   object \n",
      " 22  RoofMatl       1460 non-null   object \n",
      " 23  Exterior1st    1460 non-null   object \n",
      " 24  Exterior2nd    1460 non-null   object \n",
      " 25  MasVnrType     1452 non-null   object \n",
      " 26  MasVnrArea     1452 non-null   float64\n",
      " 27  ExterQual      1460 non-null   object \n",
      " 28  ExterCond      1460 non-null   object \n",
      " 29  Foundation     1460 non-null   object \n",
      " 30  BsmtQual       1423 non-null   object \n",
      " 31  BsmtCond       1423 non-null   object \n",
      " 32  BsmtExposure   1422 non-null   object \n",
      " 33  BsmtFinType1   1423 non-null   object \n",
      " 34  BsmtFinSF1     1460 non-null   int64  \n",
      " 35  BsmtFinType2   1422 non-null   object \n",
      " 36  BsmtFinSF2     1460 non-null   int64  \n",
      " 37  BsmtUnfSF      1460 non-null   int64  \n",
      " 38  TotalBsmtSF    1460 non-null   int64  \n",
      " 39  Heating        1460 non-null   object \n",
      " 40  HeatingQC      1460 non-null   object \n",
      " 41  CentralAir     1460 non-null   object \n",
      " 42  Electrical     1459 non-null   object \n",
      " 43  1stFlrSF       1460 non-null   int64  \n",
      " 44  2ndFlrSF       1460 non-null   int64  \n",
      " 45  LowQualFinSF   1460 non-null   int64  \n",
      " 46  GrLivArea      1460 non-null   int64  \n",
      " 47  BsmtFullBath   1460 non-null   int64  \n",
      " 48  BsmtHalfBath   1460 non-null   int64  \n",
      " 49  FullBath       1460 non-null   int64  \n",
      " 50  HalfBath       1460 non-null   int64  \n",
      " 51  BedroomAbvGr   1460 non-null   int64  \n",
      " 52  KitchenAbvGr   1460 non-null   int64  \n",
      " 53  KitchenQual    1460 non-null   object \n",
      " 54  TotRmsAbvGrd   1460 non-null   int64  \n",
      " 55  Functional     1460 non-null   object \n",
      " 56  Fireplaces     1460 non-null   int64  \n",
      " 57  FireplaceQu    770 non-null    object \n",
      " 58  GarageType     1379 non-null   object \n",
      " 59  GarageYrBlt    1379 non-null   float64\n",
      " 60  GarageFinish   1379 non-null   object \n",
      " 61  GarageCars     1460 non-null   int64  \n",
      " 62  GarageArea     1460 non-null   int64  \n",
      " 63  GarageQual     1379 non-null   object \n",
      " 64  GarageCond     1379 non-null   object \n",
      " 65  PavedDrive     1460 non-null   object \n",
      " 66  WoodDeckSF     1460 non-null   int64  \n",
      " 67  OpenPorchSF    1460 non-null   int64  \n",
      " 68  EnclosedPorch  1460 non-null   int64  \n",
      " 69  3SsnPorch      1460 non-null   int64  \n",
      " 70  ScreenPorch    1460 non-null   int64  \n",
      " 71  PoolArea       1460 non-null   int64  \n",
      " 72  PoolQC         7 non-null      object \n",
      " 73  Fence          281 non-null    object \n",
      " 74  MiscFeature    54 non-null     object \n",
      " 75  MiscVal        1460 non-null   int64  \n",
      " 76  MoSold         1460 non-null   int64  \n",
      " 77  YrSold         1460 non-null   int64  \n",
      " 78  SaleType       1460 non-null   object \n",
      " 79  SaleCondition  1460 non-null   object \n",
      " 80  SalePrice      1460 non-null   int64  \n",
      "dtypes: float64(3), int64(35), object(43)\n",
      "memory usage: 924.0+ KB\n"
     ]
    }
   ],
   "source": [
    "#infomation of the train data set  \n",
    "data_train.info() "
   ]
  },
  {
   "cell_type": "code",
   "execution_count": 16,
   "id": "290492cc-4d7a-4b2d-bcd5-452a13e3d838",
   "metadata": {
    "ExecuteTime": {
     "end_time": "2022-08-05T21:30:02.093009Z",
     "start_time": "2022-08-05T21:30:02.087138Z"
    }
   },
   "outputs": [],
   "source": [
    "# Dealing with null values in categorical features \n",
    "# those features have large number of null values so we directly drop it \n",
    "data_train.drop(['Id','Alley','PoolQC','MiscFeature','FireplaceQu','Fence',],axis = 1,inplace = True)"
   ]
  },
  {
   "cell_type": "code",
   "execution_count": 17,
   "id": "c54494e4-a032-4ae4-a22c-aa5cdc5916a9",
   "metadata": {
    "ExecuteTime": {
     "end_time": "2022-08-05T21:30:02.494911Z",
     "start_time": "2022-08-05T21:30:02.479336Z"
    }
   },
   "outputs": [
    {
     "name": "stdout",
     "output_type": "stream",
     "text": [
      "there are 14 features which have nan value in the train set not deal\n",
      "\n",
      "\n",
      "['LotFrontage', 'MasVnrType', 'MasVnrArea', 'BsmtQual', 'BsmtCond', 'BsmtExposure', 'BsmtFinType1', 'BsmtFinType2', 'Electrical', 'GarageType', 'GarageYrBlt', 'GarageFinish', 'GarageQual', 'GarageCond']\n"
     ]
    }
   ],
   "source": [
    "# we ve done drop them \n",
    "# remove them in our feature null value list \n",
    "#how many features left \n",
    "print('there are {} features which have nan value in the train set not deal'.format(len(check_null_value(data_train)))) \n",
    "print('\\n') \n",
    "print(check_null_value(data_train))  "
   ]
  },
  {
   "cell_type": "code",
   "execution_count": 18,
   "id": "a97bfaa6-a7a7-4ebe-9b34-558d70c2b534",
   "metadata": {
    "ExecuteTime": {
     "end_time": "2022-08-05T21:30:03.060311Z",
     "start_time": "2022-08-05T21:30:03.034295Z"
    }
   },
   "outputs": [
    {
     "name": "stdout",
     "output_type": "stream",
     "text": [
      "there are 2 features which have nan value in the train set not deal\n",
      "\n",
      "\n",
      "['LotFrontage', 'MasVnrArea']\n"
     ]
    }
   ],
   "source": [
    "#Dealing with null values in other categorical features \n",
    "cate = ['MasVnrType','BsmtQual','BsmtCond','BsmtExposure','BsmtFinType1','BsmtFinType2','Electrical','GarageType',\n",
    "  'GarageYrBlt','GarageFinish', 'GarageQual', 'GarageCond'] \n",
    "\n",
    "#use mode to fill in \n",
    "for col in cate: \n",
    "    data_train[col].fillna(data_train[col].mode()[0] ,inplace = True)  # use mode \n",
    "\n",
    "#check null value  \n",
    "print('there are {} features which have nan value in the train set not deal'.format(len(check_null_value(data_train)))) \n",
    "print('\\n') \n",
    "print(check_null_value(data_train)) "
   ]
  },
  {
   "cell_type": "code",
   "execution_count": 19,
   "id": "e552d1fd-b508-4f5b-81a9-9ea6402b0343",
   "metadata": {
    "ExecuteTime": {
     "end_time": "2022-08-05T21:30:04.014490Z",
     "start_time": "2022-08-05T21:30:04.010750Z"
    }
   },
   "outputs": [],
   "source": [
    "#use median value  to fill in MasVnrArea \n",
    "data_train['MasVnrArea'].fillna(data_train['MasVnrArea'].mean(),inplace = True) "
   ]
  },
  {
   "cell_type": "code",
   "execution_count": 20,
   "id": "b7788f06-ebc8-49cd-acf7-f0275f597d0c",
   "metadata": {
    "ExecuteTime": {
     "end_time": "2022-08-05T21:30:04.805215Z",
     "start_time": "2022-08-05T21:30:04.790415Z"
    }
   },
   "outputs": [
    {
     "name": "stdout",
     "output_type": "stream",
     "text": [
      "there are 1 features which have nan value in the train set not deal\n",
      "\n",
      "\n",
      "['LotFrontage']\n"
     ]
    }
   ],
   "source": [
    "# check null value \n",
    "print('there are {} features which have nan value in the train set not deal'.format(len(check_null_value(data_train)))) \n",
    "print('\\n') \n",
    "print(check_null_value(data_train)) "
   ]
  },
  {
   "cell_type": "code",
   "execution_count": 21,
   "id": "e4adc32f-959d-4be7-ad1b-192f64d62f5e",
   "metadata": {
    "ExecuteTime": {
     "end_time": "2022-08-05T21:30:05.365364Z",
     "start_time": "2022-08-05T21:30:05.358837Z"
    }
   },
   "outputs": [],
   "source": [
    "#use linear regression to fill na in LotFrontage \n",
    "y = data_train['LotFrontage']\n",
    "X = data_train['LotArea']\n",
    "Ytrain = y[y.notnull()]\n",
    "Ytest = y[y.isnull()] \n",
    "Xtrain =X[Ytrain.index]\n",
    "Xtest = X[Ytest.index] "
   ]
  },
  {
   "cell_type": "code",
   "execution_count": 22,
   "id": "79a07b57-3b22-41c2-bae9-3a5bd71803fd",
   "metadata": {
    "ExecuteTime": {
     "end_time": "2022-08-05T21:30:05.710447Z",
     "start_time": "2022-08-05T21:30:05.706362Z"
    }
   },
   "outputs": [],
   "source": [
    "Xtrain = Xtrain.to_numpy().reshape(-1,1)  \n",
    "Ytrain = Ytrain.to_numpy().reshape(-1,1) \n",
    "Xtest = Xtest.to_numpy().reshape(-1,1) "
   ]
  },
  {
   "cell_type": "code",
   "execution_count": 23,
   "id": "9e01e2c4-02ed-4f80-9f60-101ea9d39410",
   "metadata": {
    "ExecuteTime": {
     "end_time": "2022-08-05T21:30:08.234319Z",
     "start_time": "2022-08-05T21:30:06.043840Z"
    }
   },
   "outputs": [],
   "source": [
    "lm = LinearRegression().fit(Xtrain,Ytrain)\n",
    "Ypredict = lm.predict(Xtest) "
   ]
  },
  {
   "cell_type": "code",
   "execution_count": 24,
   "id": "b128431c-e9c0-4a67-9eb5-798505e1aab7",
   "metadata": {
    "ExecuteTime": {
     "end_time": "2022-08-05T21:30:08.242241Z",
     "start_time": "2022-08-05T21:30:08.237418Z"
    }
   },
   "outputs": [],
   "source": [
    "#replace the na value in lotfrontage\n",
    "data_train.loc[data_train['LotFrontage'].isnull(),'LotFrontage'] = Ypredict "
   ]
  },
  {
   "cell_type": "code",
   "execution_count": 25,
   "id": "c6b5e1ca-904f-42fb-a9b6-508c0fa5a567",
   "metadata": {
    "ExecuteTime": {
     "end_time": "2022-08-05T21:30:08.256952Z",
     "start_time": "2022-08-05T21:30:08.245112Z"
    }
   },
   "outputs": [
    {
     "name": "stdout",
     "output_type": "stream",
     "text": [
      "there are 0 features which have nan value in the train set not deal\n"
     ]
    }
   ],
   "source": [
    "# check how many null value left\n",
    "print('there are {} features which have nan value in the train set not deal'.format(len(check_null_value(data_train)))) "
   ]
  },
  {
   "cell_type": "markdown",
   "id": "15884391-0458-4836-a113-6f3f2dfe6a27",
   "metadata": {},
   "source": [
    "### NA value in test set "
   ]
  },
  {
   "cell_type": "code",
   "execution_count": 26,
   "id": "b2b10c37-9f7e-4a42-aebe-e0ed9329bd57",
   "metadata": {
    "ExecuteTime": {
     "end_time": "2022-08-05T21:30:09.061825Z",
     "start_time": "2022-08-05T21:30:09.034371Z"
    }
   },
   "outputs": [
    {
     "data": {
      "text/html": [
       "<div>\n",
       "<style scoped>\n",
       "    .dataframe tbody tr th:only-of-type {\n",
       "        vertical-align: middle;\n",
       "    }\n",
       "\n",
       "    .dataframe tbody tr th {\n",
       "        vertical-align: top;\n",
       "    }\n",
       "\n",
       "    .dataframe thead th {\n",
       "        text-align: right;\n",
       "    }\n",
       "</style>\n",
       "<table border=\"1\" class=\"dataframe\">\n",
       "  <thead>\n",
       "    <tr style=\"text-align: right;\">\n",
       "      <th></th>\n",
       "      <th>Id</th>\n",
       "      <th>MSSubClass</th>\n",
       "      <th>MSZoning</th>\n",
       "      <th>LotFrontage</th>\n",
       "      <th>LotArea</th>\n",
       "      <th>Street</th>\n",
       "      <th>Alley</th>\n",
       "      <th>LotShape</th>\n",
       "      <th>LandContour</th>\n",
       "      <th>Utilities</th>\n",
       "      <th>...</th>\n",
       "      <th>ScreenPorch</th>\n",
       "      <th>PoolArea</th>\n",
       "      <th>PoolQC</th>\n",
       "      <th>Fence</th>\n",
       "      <th>MiscFeature</th>\n",
       "      <th>MiscVal</th>\n",
       "      <th>MoSold</th>\n",
       "      <th>YrSold</th>\n",
       "      <th>SaleType</th>\n",
       "      <th>SaleCondition</th>\n",
       "    </tr>\n",
       "  </thead>\n",
       "  <tbody>\n",
       "    <tr>\n",
       "      <th>0</th>\n",
       "      <td>1461</td>\n",
       "      <td>20</td>\n",
       "      <td>RH</td>\n",
       "      <td>80.0</td>\n",
       "      <td>11622</td>\n",
       "      <td>Pave</td>\n",
       "      <td>NaN</td>\n",
       "      <td>Reg</td>\n",
       "      <td>Lvl</td>\n",
       "      <td>AllPub</td>\n",
       "      <td>...</td>\n",
       "      <td>120</td>\n",
       "      <td>0</td>\n",
       "      <td>NaN</td>\n",
       "      <td>MnPrv</td>\n",
       "      <td>NaN</td>\n",
       "      <td>0</td>\n",
       "      <td>6</td>\n",
       "      <td>2010</td>\n",
       "      <td>WD</td>\n",
       "      <td>Normal</td>\n",
       "    </tr>\n",
       "    <tr>\n",
       "      <th>1</th>\n",
       "      <td>1462</td>\n",
       "      <td>20</td>\n",
       "      <td>RL</td>\n",
       "      <td>81.0</td>\n",
       "      <td>14267</td>\n",
       "      <td>Pave</td>\n",
       "      <td>NaN</td>\n",
       "      <td>IR1</td>\n",
       "      <td>Lvl</td>\n",
       "      <td>AllPub</td>\n",
       "      <td>...</td>\n",
       "      <td>0</td>\n",
       "      <td>0</td>\n",
       "      <td>NaN</td>\n",
       "      <td>NaN</td>\n",
       "      <td>Gar2</td>\n",
       "      <td>12500</td>\n",
       "      <td>6</td>\n",
       "      <td>2010</td>\n",
       "      <td>WD</td>\n",
       "      <td>Normal</td>\n",
       "    </tr>\n",
       "    <tr>\n",
       "      <th>2</th>\n",
       "      <td>1463</td>\n",
       "      <td>60</td>\n",
       "      <td>RL</td>\n",
       "      <td>74.0</td>\n",
       "      <td>13830</td>\n",
       "      <td>Pave</td>\n",
       "      <td>NaN</td>\n",
       "      <td>IR1</td>\n",
       "      <td>Lvl</td>\n",
       "      <td>AllPub</td>\n",
       "      <td>...</td>\n",
       "      <td>0</td>\n",
       "      <td>0</td>\n",
       "      <td>NaN</td>\n",
       "      <td>MnPrv</td>\n",
       "      <td>NaN</td>\n",
       "      <td>0</td>\n",
       "      <td>3</td>\n",
       "      <td>2010</td>\n",
       "      <td>WD</td>\n",
       "      <td>Normal</td>\n",
       "    </tr>\n",
       "    <tr>\n",
       "      <th>3</th>\n",
       "      <td>1464</td>\n",
       "      <td>60</td>\n",
       "      <td>RL</td>\n",
       "      <td>78.0</td>\n",
       "      <td>9978</td>\n",
       "      <td>Pave</td>\n",
       "      <td>NaN</td>\n",
       "      <td>IR1</td>\n",
       "      <td>Lvl</td>\n",
       "      <td>AllPub</td>\n",
       "      <td>...</td>\n",
       "      <td>0</td>\n",
       "      <td>0</td>\n",
       "      <td>NaN</td>\n",
       "      <td>NaN</td>\n",
       "      <td>NaN</td>\n",
       "      <td>0</td>\n",
       "      <td>6</td>\n",
       "      <td>2010</td>\n",
       "      <td>WD</td>\n",
       "      <td>Normal</td>\n",
       "    </tr>\n",
       "    <tr>\n",
       "      <th>4</th>\n",
       "      <td>1465</td>\n",
       "      <td>120</td>\n",
       "      <td>RL</td>\n",
       "      <td>43.0</td>\n",
       "      <td>5005</td>\n",
       "      <td>Pave</td>\n",
       "      <td>NaN</td>\n",
       "      <td>IR1</td>\n",
       "      <td>HLS</td>\n",
       "      <td>AllPub</td>\n",
       "      <td>...</td>\n",
       "      <td>144</td>\n",
       "      <td>0</td>\n",
       "      <td>NaN</td>\n",
       "      <td>NaN</td>\n",
       "      <td>NaN</td>\n",
       "      <td>0</td>\n",
       "      <td>1</td>\n",
       "      <td>2010</td>\n",
       "      <td>WD</td>\n",
       "      <td>Normal</td>\n",
       "    </tr>\n",
       "  </tbody>\n",
       "</table>\n",
       "<p>5 rows × 80 columns</p>\n",
       "</div>"
      ],
      "text/plain": [
       "     Id  MSSubClass MSZoning  LotFrontage  LotArea Street Alley LotShape  \\\n",
       "0  1461          20       RH         80.0    11622   Pave   NaN      Reg   \n",
       "1  1462          20       RL         81.0    14267   Pave   NaN      IR1   \n",
       "2  1463          60       RL         74.0    13830   Pave   NaN      IR1   \n",
       "3  1464          60       RL         78.0     9978   Pave   NaN      IR1   \n",
       "4  1465         120       RL         43.0     5005   Pave   NaN      IR1   \n",
       "\n",
       "  LandContour Utilities  ... ScreenPorch PoolArea PoolQC  Fence MiscFeature  \\\n",
       "0         Lvl    AllPub  ...         120        0    NaN  MnPrv         NaN   \n",
       "1         Lvl    AllPub  ...           0        0    NaN    NaN        Gar2   \n",
       "2         Lvl    AllPub  ...           0        0    NaN  MnPrv         NaN   \n",
       "3         Lvl    AllPub  ...           0        0    NaN    NaN         NaN   \n",
       "4         HLS    AllPub  ...         144        0    NaN    NaN         NaN   \n",
       "\n",
       "  MiscVal MoSold  YrSold  SaleType  SaleCondition  \n",
       "0       0      6    2010        WD         Normal  \n",
       "1   12500      6    2010        WD         Normal  \n",
       "2       0      3    2010        WD         Normal  \n",
       "3       0      6    2010        WD         Normal  \n",
       "4       0      1    2010        WD         Normal  \n",
       "\n",
       "[5 rows x 80 columns]"
      ]
     },
     "execution_count": 26,
     "metadata": {},
     "output_type": "execute_result"
    }
   ],
   "source": [
    "#take a look about test set \n",
    "data_test.head() "
   ]
  },
  {
   "cell_type": "code",
   "execution_count": 27,
   "id": "18456927-1cda-45fb-87ac-59a6938e1895",
   "metadata": {
    "ExecuteTime": {
     "end_time": "2022-08-05T21:30:09.539693Z",
     "start_time": "2022-08-05T21:30:09.534499Z"
    }
   },
   "outputs": [],
   "source": [
    "# Dealing with null values in categorical features \n",
    "# those features have large number of null values \n",
    "data_test.drop(['Id','Alley','PoolQC','MiscFeature','FireplaceQu','Fence',],axis = 1,inplace = True) "
   ]
  },
  {
   "cell_type": "code",
   "execution_count": 28,
   "id": "4cfa0fc5-e827-4545-ad90-90e98c929887",
   "metadata": {
    "ExecuteTime": {
     "end_time": "2022-08-05T21:30:09.940650Z",
     "start_time": "2022-08-05T21:30:09.930335Z"
    }
   },
   "outputs": [
    {
     "data": {
      "text/plain": [
       "28"
      ]
     },
     "execution_count": 28,
     "metadata": {},
     "output_type": "execute_result"
    }
   ],
   "source": [
    "null_list_test = check_null_value(data_test) \n",
    "len(null_list_test)  "
   ]
  },
  {
   "cell_type": "code",
   "execution_count": 29,
   "id": "a9901c93-d19c-487c-b4ca-763f5f62cd95",
   "metadata": {
    "ExecuteTime": {
     "end_time": "2022-08-05T21:30:10.353265Z",
     "start_time": "2022-08-05T21:30:10.349519Z"
    }
   },
   "outputs": [],
   "source": [
    "#Dealing with null values in other categorical features \n",
    "cate_test = ['MasVnrType','BsmtQual','BsmtCond','BsmtExposure','BsmtFinType1','BsmtFinType2','GarageType',\n",
    "             'GarageYrBlt','GarageFinish', 'GarageQual', 'GarageCond','SaleType','Functional','KitchenQual','BsmtFullBath','BsmtHalfBath',\n",
    "       'Utilities','Exterior2nd','Exterior1st','MSZoning','BsmtFinSF1']"
   ]
  },
  {
   "cell_type": "code",
   "execution_count": 30,
   "id": "390ef3d9-1964-4383-9d89-162df5297c96",
   "metadata": {
    "ExecuteTime": {
     "end_time": "2022-08-05T21:30:10.733874Z",
     "start_time": "2022-08-05T21:30:10.702061Z"
    }
   },
   "outputs": [
    {
     "name": "stdout",
     "output_type": "stream",
     "text": [
      "there are 7 features which have nan value in the train set not deal\n",
      "\n",
      "\n",
      "['LotFrontage', 'MasVnrArea', 'BsmtFinSF2', 'BsmtUnfSF', 'TotalBsmtSF', 'GarageCars', 'GarageArea']\n"
     ]
    }
   ],
   "source": [
    "#use mode to fill in \n",
    "for col in cate_test: \n",
    "    data_test[col].fillna(data_test[col].mode()[0] ,inplace = True) \n",
    "\n",
    "#check null value  left\n",
    "print('there are {} features which have nan value in the train set not deal'.format(len(check_null_value(data_test)))) \n",
    "print('\\n') \n",
    "print(check_null_value(data_test))  "
   ]
  },
  {
   "cell_type": "code",
   "execution_count": 31,
   "id": "23b623f4-6cfa-4b5e-a6aa-52f92e005b9b",
   "metadata": {
    "ExecuteTime": {
     "end_time": "2022-08-05T21:30:11.067230Z",
     "start_time": "2022-08-05T21:30:11.053911Z"
    }
   },
   "outputs": [
    {
     "data": {
      "text/plain": [
       "['LotFrontage']"
      ]
     },
     "execution_count": 31,
     "metadata": {},
     "output_type": "execute_result"
    }
   ],
   "source": [
    "# use mean value to fill in \n",
    "for col in ['MasVnrArea', 'BsmtFinSF2', 'BsmtUnfSF', 'TotalBsmtSF','GarageCars', 'GarageArea']: \n",
    "    data_test[col].fillna(data_test[col].mean() ,inplace = True)   \n",
    "    \n",
    "#check null value  left\n",
    "check_null_value(data_test)  "
   ]
  },
  {
   "cell_type": "code",
   "execution_count": 32,
   "id": "4476aef3-76b9-48ef-a7b4-96719ff26419",
   "metadata": {
    "ExecuteTime": {
     "end_time": "2022-08-05T21:30:11.424361Z",
     "start_time": "2022-08-05T21:30:11.413654Z"
    }
   },
   "outputs": [],
   "source": [
    "#use linear regression to fill na \n",
    "y = data_test['LotFrontage']\n",
    "X = data_test['LotArea']\n",
    "Ytrain = y[y.notnull()]\n",
    "Ytest = y[y.isnull()] \n",
    "Xtrain =X[Ytrain.index]\n",
    "Xtest = X[Ytest.index] \n",
    "\n",
    "Xtrain = Xtrain.to_numpy().reshape(-1,1)  \n",
    "Ytrain = Ytrain.to_numpy().reshape(-1,1) \n",
    "Xtest = Xtest.to_numpy().reshape(-1,1) \n",
    "\n",
    "lm = LinearRegression().fit(Xtrain,Ytrain)\n",
    "Ypredict = lm.predict(Xtest) \n",
    "\n",
    "#replace the na value in lotfrontage\n",
    "data_test.loc[data_test['LotFrontage'].isnull(),'LotFrontage'] = Ypredict  "
   ]
  },
  {
   "cell_type": "code",
   "execution_count": 33,
   "id": "4b31019f-f88a-4e78-a716-1d404270e7d9",
   "metadata": {
    "ExecuteTime": {
     "end_time": "2022-08-05T21:30:11.808777Z",
     "start_time": "2022-08-05T21:30:11.798916Z"
    }
   },
   "outputs": [
    {
     "name": "stdout",
     "output_type": "stream",
     "text": [
      "there are 0 features which have nan value in the test set not deal\n"
     ]
    }
   ],
   "source": [
    "#check null value  left\n",
    "print('there are {} features which have nan value in the test set not deal'.format(len(check_null_value(data_test)))) "
   ]
  },
  {
   "cell_type": "markdown",
   "id": "c227fa34",
   "metadata": {},
   "source": [
    "check the shape of the train set and test set "
   ]
  },
  {
   "cell_type": "code",
   "execution_count": 34,
   "id": "4b176a80",
   "metadata": {
    "ExecuteTime": {
     "end_time": "2022-08-05T21:30:12.589642Z",
     "start_time": "2022-08-05T21:30:12.585407Z"
    }
   },
   "outputs": [
    {
     "data": {
      "text/plain": [
       "((1460, 75), (1459, 74))"
      ]
     },
     "execution_count": 34,
     "metadata": {},
     "output_type": "execute_result"
    }
   ],
   "source": [
    "data_train.shape, data_test.shape "
   ]
  },
  {
   "cell_type": "markdown",
   "id": "8b0e31c1-99f1-4c06-aa85-7c7d28e6d246",
   "metadata": {},
   "source": [
    "### Train Set and Test Set Encode "
   ]
  },
  {
   "cell_type": "code",
   "execution_count": 35,
   "id": "22ffea52",
   "metadata": {
    "ExecuteTime": {
     "end_time": "2022-08-05T21:30:13.386072Z",
     "start_time": "2022-08-05T21:30:13.381594Z"
    }
   },
   "outputs": [],
   "source": [
    "def encode(data,ordinal_fea,onehot_fea): \n",
    "    \"\"\" \n",
    "    data is train_set or test set \n",
    "    this function is to encode the categorical features in the data set \n",
    "    \"\"\"   \n",
    "    data.loc[:,ordinal_fea] = OrdinalEncoder().fit_transform(data.loc[:,ordinal_fea]) \n",
    "    data_cat = pd.get_dummies(data.loc[:,onehot_fea]) \n",
    "    data = pd.concat([data,data_cat],axis =1)\n",
    "    data.drop(onehot_fea,axis = 1,inplace = True)  \n",
    "    \n",
    "    return data "
   ]
  },
  {
   "cell_type": "code",
   "execution_count": 36,
   "id": "12e7c45f-e5c3-487b-82a5-5b7b02747518",
   "metadata": {
    "ExecuteTime": {
     "end_time": "2022-08-05T21:30:13.742943Z",
     "start_time": "2022-08-05T21:30:13.733478Z"
    }
   },
   "outputs": [
    {
     "name": "stdout",
     "output_type": "stream",
     "text": [
      "['MSZoning', 'Street', 'LotShape', 'LandContour', 'Utilities', 'LotConfig', 'LandSlope', 'Neighborhood', 'Condition1', 'Condition2', 'BldgType', 'HouseStyle', 'RoofStyle', 'RoofMatl', 'Exterior1st', 'Exterior2nd', 'MasVnrType', 'ExterQual', 'ExterCond', 'Foundation', 'BsmtQual', 'BsmtCond', 'BsmtExposure', 'BsmtFinType1', 'BsmtFinType2', 'Heating', 'HeatingQC', 'CentralAir', 'Electrical', 'KitchenQual', 'Functional', 'GarageType', 'GarageFinish', 'GarageQual', 'GarageCond', 'PavedDrive', 'SaleType', 'SaleCondition']\n",
      "\n",
      "\n",
      "['MSSubClass', 'LotFrontage', 'LotArea', 'OverallQual', 'OverallCond', 'YearBuilt', 'YearRemodAdd', 'MasVnrArea', 'BsmtFinSF1', 'BsmtFinSF2', 'BsmtUnfSF', 'TotalBsmtSF', '1stFlrSF', '2ndFlrSF', 'LowQualFinSF', 'GrLivArea', 'BsmtFullBath', 'BsmtHalfBath', 'FullBath', 'HalfBath', 'BedroomAbvGr', 'KitchenAbvGr', 'TotRmsAbvGrd', 'Fireplaces', 'GarageYrBlt', 'GarageCars', 'GarageArea', 'WoodDeckSF', 'OpenPorchSF', 'EnclosedPorch', '3SsnPorch', 'ScreenPorch', 'PoolArea', 'MiscVal', 'MoSold', 'YrSold', 'SalePrice']\n"
     ]
    }
   ],
   "source": [
    "# Now we finish processing the nan value \n",
    "# encode the categorical feature \n",
    "# select type = object and type = int or float features  \n",
    "#create list for that \n",
    "cate_feat = list(data_train.select_dtypes(include = [object]).columns) \n",
    "num_feat =list(data_train.select_dtypes(include = ['int64','float64']).columns) \n",
    "\n",
    "print(cate_feat) \n",
    "print('\\n') \n",
    "print(num_feat) "
   ]
  },
  {
   "cell_type": "code",
   "execution_count": 37,
   "id": "195ba8bd-e7b4-491d-af20-03446da17b3e",
   "metadata": {
    "ExecuteTime": {
     "end_time": "2022-08-05T21:30:14.205328Z",
     "start_time": "2022-08-05T21:30:14.201353Z"
    }
   },
   "outputs": [],
   "source": [
    "# so we can encode right now  \n",
    "# use ordinal encode and one hot encode \n",
    "# ordianl encode first \n",
    "ordinal_fea = ['LotShape','LandContour','LandSlope','HouseStyle','ExterQual','ExterCond','BsmtQual','BsmtCond',\n",
    "               'BsmtExposure','BsmtFinType1','BsmtFinType2','HeatingQC',\n",
    "               'KitchenQual','Functional','GarageFinish','GarageQual','GarageCond'] \n",
    "onehot_fea =[ele for ele in cate_feat if ele not in ordinal_fea] "
   ]
  },
  {
   "cell_type": "code",
   "execution_count": 38,
   "id": "5012fa52",
   "metadata": {
    "ExecuteTime": {
     "end_time": "2022-08-05T21:30:14.759574Z",
     "start_time": "2022-08-05T21:30:14.634346Z"
    }
   },
   "outputs": [],
   "source": [
    "data_train = encode(data_train, ordinal_fea, onehot_fea) \n",
    "data_test = encode(data_test,ordinal_fea,onehot_fea) "
   ]
  },
  {
   "cell_type": "code",
   "execution_count": 39,
   "id": "0ebbc6a6",
   "metadata": {
    "ExecuteTime": {
     "end_time": "2022-08-05T21:30:15.780968Z",
     "start_time": "2022-08-05T21:30:15.776110Z"
    }
   },
   "outputs": [],
   "source": [
    "data_train,data_test  = data_train.align(data_test,join = 'left',axis = 1) "
   ]
  },
  {
   "cell_type": "markdown",
   "id": "13dd10c9-0401-4c68-b7cf-76a8e9181b30",
   "metadata": {},
   "source": [
    "### Modeling Cross Validation "
   ]
  },
  {
   "cell_type": "code",
   "execution_count": 40,
   "id": "3a0cc7f6-7081-4163-90a2-20dbb978ae8a",
   "metadata": {
    "ExecuteTime": {
     "end_time": "2022-08-05T21:30:26.309670Z",
     "start_time": "2022-08-05T21:30:26.302914Z"
    }
   },
   "outputs": [],
   "source": [
    "#  k fold cross validation \n",
    "X = data_train.loc[:,data_train.columns!='SalePrice'].to_numpy() \n",
    "y = data_train['SalePrice'].to_numpy().reshape(-1,1)"
   ]
  },
  {
   "cell_type": "code",
   "execution_count": 41,
   "id": "c9e6f536-9252-4e08-b6d6-a44b0660dbcb",
   "metadata": {
    "ExecuteTime": {
     "end_time": "2022-08-05T21:30:26.761857Z",
     "start_time": "2022-08-05T21:30:26.759212Z"
    }
   },
   "outputs": [],
   "source": [
    "#linear regression -1st round see see \n",
    "lm = LinearRegression() "
   ]
  },
  {
   "cell_type": "code",
   "execution_count": 42,
   "id": "eb401e46-f02a-456b-8e0a-f143e12e2357",
   "metadata": {
    "ExecuteTime": {
     "end_time": "2022-08-05T21:30:27.253698Z",
     "start_time": "2022-08-05T21:30:27.177119Z"
    }
   },
   "outputs": [
    {
     "data": {
      "text/plain": [
       "34313.0423060174"
      ]
     },
     "execution_count": 42,
     "metadata": {},
     "output_type": "execute_result"
    }
   ],
   "source": [
    "# 5 fold cross validation \n",
    "scores = cross_val_score(lm, X, y, cv=5,scoring = 'neg_root_mean_squared_error').mean()\n",
    "-scores "
   ]
  },
  {
   "cell_type": "code",
   "execution_count": 43,
   "id": "d9d8e99f-e6a4-4f25-9e1e-db6dda924bb5",
   "metadata": {
    "ExecuteTime": {
     "end_time": "2022-08-05T21:30:28.448741Z",
     "start_time": "2022-08-05T21:30:28.339538Z"
    }
   },
   "outputs": [
    {
     "data": {
      "text/plain": [
       "0.8088489034836103"
      ]
     },
     "execution_count": 43,
     "metadata": {},
     "output_type": "execute_result"
    }
   ],
   "source": [
    "score_r2= cross_val_score(lm, X, y, cv=5).mean()\n",
    "score_r2"
   ]
  },
  {
   "cell_type": "code",
   "execution_count": 44,
   "id": "4e184b9e-5222-4fe4-8dd6-598ab2576295",
   "metadata": {
    "ExecuteTime": {
     "end_time": "2022-08-05T21:31:03.682281Z",
     "start_time": "2022-08-05T21:30:28.990547Z"
    }
   },
   "outputs": [
    {
     "data": {
      "text/plain": [
       "(29992.95466448487, 0.8555878216451973)"
      ]
     },
     "execution_count": 44,
     "metadata": {},
     "output_type": "execute_result"
    }
   ],
   "source": [
    "#Random Forest Regressor -1st round see see \n",
    "rfc = RandomForestRegressor(n_estimators = 150,max_depth = 50, random_state = 420) \n",
    "scores = cross_val_score(rfc, X, y, cv=5,scoring = 'neg_root_mean_squared_error').mean() #RMSE\n",
    "score_r2= cross_val_score(rfc, X, y, cv=5).mean() #r2 \n",
    "\n",
    "-scores,score_r2 "
   ]
  },
  {
   "cell_type": "code",
   "execution_count": 45,
   "id": "fb11016a-3b87-406b-b94f-ad3648d1471b",
   "metadata": {
    "ExecuteTime": {
     "end_time": "2022-08-05T21:31:17.411062Z",
     "start_time": "2022-08-05T21:31:03.684854Z"
    }
   },
   "outputs": [
    {
     "data": {
      "text/plain": [
       "(25962.813926568477, 0.8906386086856652)"
      ]
     },
     "execution_count": 45,
     "metadata": {},
     "output_type": "execute_result"
    }
   ],
   "source": [
    "# GradientBoostingRegressor -1st round see see \n",
    "gb = GradientBoostingRegressor(learning_rate = 0.2,n_estimators = 150,random_state = 420)\n",
    "scores = cross_val_score(gb, X, y, cv=5,scoring = 'neg_root_mean_squared_error').mean() #RMSE\n",
    "score_r2= cross_val_score(gb, X, y, cv=5).mean() #r2 \n",
    "\n",
    "-scores,score_r2 "
   ]
  },
  {
   "cell_type": "code",
   "execution_count": 46,
   "id": "48419749-7749-4588-9c9a-644b1dfc6208",
   "metadata": {
    "ExecuteTime": {
     "end_time": "2022-08-05T21:31:22.180052Z",
     "start_time": "2022-08-05T21:31:17.412940Z"
    }
   },
   "outputs": [
    {
     "data": {
      "text/plain": [
       "(28470.370429304498, 0.8700980635733842)"
      ]
     },
     "execution_count": 46,
     "metadata": {},
     "output_type": "execute_result"
    }
   ],
   "source": [
    "# xgboost - 1st round see see \n",
    "xgb = XGBRegressor(learning_rate = 0.2,n_estimators = 100,random_state = 420) \n",
    "scores = cross_val_score(xgb, X, y, cv=5,scoring = 'neg_root_mean_squared_error').mean() #RMSE\n",
    "score_r2= cross_val_score(xgb, X, y, cv=5).mean() #r2 \n",
    "\n",
    "-scores,score_r2  "
   ]
  },
  {
   "cell_type": "code",
   "execution_count": 47,
   "id": "ac9a0575-83bb-4a2d-bc04-f6096f6b11b9",
   "metadata": {
    "ExecuteTime": {
     "end_time": "2022-08-05T21:32:31.195470Z",
     "start_time": "2022-08-05T21:31:22.273092Z"
    }
   },
   "outputs": [
    {
     "name": "stdout",
     "output_type": "stream",
     "text": [
      "the maximum of the r2 score is 0.8703128393114433\n",
      "\n",
      "\n",
      "the minimum of the rmse is 28447.18333529775, the n_estiamtors value is 120\n"
     ]
    },
    {
     "data": {
      "image/png": "[encoded data removed]",
      "text/plain": [
       "<Figure size 1152x576 with 1 Axes>"
      ]
     },
     "metadata": {
      "needs_background": "light"
     },
     "output_type": "display_data"
    }
   ],
   "source": [
    "# try to see learning curve for the n_estimators \n",
    "n_estimators = range(100,200,10) \n",
    "cv = 5\n",
    "r2_score = [] \n",
    "rmse = [] \n",
    "for i in n_estimators: \n",
    "    xgb = XGBRegressor(learning_rate = 0.2,n_estimators = i,random_state = 420) \n",
    "    scores = cross_val_score(xgb, X, y, cv=cv,scoring = 'neg_root_mean_squared_error').mean() #RMSE\n",
    "    score_r2= cross_val_score(xgb, X, y, cv=cv).mean() #r2  \n",
    "    r2_score.append(score_r2) \n",
    "    rmse.append(-scores) \n",
    "print('the maximum of the r2 score is {}'.format(max(r2_score))) \n",
    "print('\\n') \n",
    "print('the minimum of the rmse is {}, the n_estiamtors value is {}'.format(min(rmse),n_estimators[rmse.index(min(rmse))])) \n",
    "      \n",
    "plt.figure(figsize = (16,8)) \n",
    "plt.plot(n_estimators,rmse,c = 'red') \n",
    "plt.title('learning curve for n_estimators')\n",
    "plt.show() "
   ]
  },
  {
   "cell_type": "code",
   "execution_count": 48,
   "id": "bdf7ebfb-86e3-471e-af61-29759ebfe860",
   "metadata": {
    "ExecuteTime": {
     "end_time": "2022-08-05T21:39:48.931351Z",
     "start_time": "2022-08-05T21:36:47.084860Z"
    }
   },
   "outputs": [
    {
     "name": "stdout",
     "output_type": "stream",
     "text": [
      "the maximum of the r2 score is 0.880841671403747\n",
      "\n",
      "\n",
      "the minimum of the rmse is 27312.18486207839, the learning_rate value is 0.25\n"
     ]
    },
    {
     "data": {
      "image/png": "[encoded data removed]",
      "text/plain": [
       "<Figure size 1152x576 with 1 Axes>"
      ]
     },
     "metadata": {
      "needs_background": "light"
     },
     "output_type": "display_data"
    }
   ],
   "source": [
    "learning_rate = np.arange(0.0,1.0,0.05) \n",
    "cv = 5\n",
    "r2_score = [] \n",
    "rmse = [] \n",
    "for i in learning_rate: \n",
    "    xgb = XGBRegressor(learning_rate = i,n_estimators = 190,random_state = 420) \n",
    "    scores = cross_val_score(xgb, X, y, cv=cv,scoring = 'neg_root_mean_squared_error').mean() #RMSE\n",
    "    score_r2= cross_val_score(xgb, X, y, cv=cv).mean() #r2  \n",
    "    r2_score.append(score_r2) \n",
    "    rmse.append(-scores) \n",
    "print('the maximum of the r2 score is {}'.format(max(r2_score))) \n",
    "print('\\n') \n",
    "print('the minimum of the rmse is {}, the learning_rate value is {}'.format(min(rmse),learning_rate[rmse.index(min(rmse))])) \n",
    "      \n",
    "plt.figure(figsize = (16,8)) \n",
    "plt.plot(learning_rate,rmse,c = 'red') \n",
    "plt.title('learning curve for learning_rate') \n",
    "plt.show() "
   ]
  },
  {
   "cell_type": "code",
   "execution_count": 49,
   "id": "359c19d1-c90a-4d10-a1c5-fbce71c7d74c",
   "metadata": {
    "ExecuteTime": {
     "end_time": "2022-08-05T21:43:24.617442Z",
     "start_time": "2022-08-05T21:41:02.752722Z"
    }
   },
   "outputs": [
    {
     "name": "stdout",
     "output_type": "stream",
     "text": [
      "the maximum of the r2 score is 0.8928877639496676\n",
      "\n",
      "\n",
      "the minimum of the rmse is 25871.78237841749, the subsample value is 0.631578947368421\n"
     ]
    },
    {
     "data": {
      "image/png": "[encoded data removed]",
      "text/plain": [
       "<Figure size 1152x576 with 1 Axes>"
      ]
     },
     "metadata": {
      "needs_background": "light"
     },
     "output_type": "display_data"
    }
   ],
   "source": [
    "#subsample \n",
    "sub_sample = np.linspace(0,1,20) \n",
    "cv = 5\n",
    "r2_score = [] \n",
    "rmse = [] \n",
    "for i in sub_sample: \n",
    "    xgb = XGBRegressor(learning_rate = 0.1,n_estimators = 190,random_state = 420,subsample = i) \n",
    "    scores = cross_val_score(xgb, X, y, cv=cv,scoring = 'neg_root_mean_squared_error').mean() #RMSE\n",
    "    score_r2= cross_val_score(xgb, X, y, cv=cv).mean() #r2  \n",
    "    r2_score.append(score_r2) \n",
    "    rmse.append(-scores) \n",
    "print('the maximum of the r2 score is {}'.format(max(r2_score))) \n",
    "print('\\n') \n",
    "print('the minimum of the rmse is {}, the subsample value is {}'.format(min(rmse),sub_sample[rmse.index(min(rmse))])) \n",
    "      \n",
    "plt.figure(figsize = (16,8)) \n",
    "plt.plot(sub_sample,rmse,c = 'red') \n",
    "plt.title('learning curve for subsample') \n",
    "plt.show() "
   ]
  },
  {
   "cell_type": "code",
   "execution_count": 50,
   "id": "a2d38826-e07c-44e8-94c1-04c107311c91",
   "metadata": {
    "ExecuteTime": {
     "end_time": "2022-08-05T21:46:15.761383Z",
     "start_time": "2022-08-05T21:43:46.439646Z"
    }
   },
   "outputs": [
    {
     "name": "stdout",
     "output_type": "stream",
     "text": [
      "the maximum of the r2 score is 0.8930925127099012\n",
      "\n",
      "\n",
      "the minimum of the rmse is 25846.64660483385, the n_estiamtors value is 240\n"
     ]
    },
    {
     "data": {
      "image/png": "[encoded data removed]",
      "text/plain": [
       "<Figure size 1152x576 with 1 Axes>"
      ]
     },
     "metadata": {
      "needs_background": "light"
     },
     "output_type": "display_data"
    }
   ],
   "source": [
    "#last try to see n_estimators again \n",
    "n_estimators = range(150,300,10) \n",
    "cv = 5\n",
    "r2_score = [] \n",
    "rmse = [] \n",
    "for i in n_estimators: \n",
    "    xgb = XGBRegressor(learning_rate = 0.1,n_estimators = i,random_state = 420,subsample =0.631578947368421) \n",
    "    scores = cross_val_score(xgb, X, y, cv=cv,scoring = 'neg_root_mean_squared_error').mean() #RMSE\n",
    "    score_r2= cross_val_score(xgb, X, y, cv=cv).mean() #r2  \n",
    "    r2_score.append(score_r2) \n",
    "    rmse.append(-scores) \n",
    "print('the maximum of the r2 score is {}'.format(max(r2_score))) \n",
    "print('\\n') \n",
    "print('the minimum of the rmse is {}, the n_estiamtors value is {}'.format(min(rmse),n_estimators[rmse.index(min(rmse))])) \n",
    "      \n",
    "plt.figure(figsize = (16,8)) \n",
    "plt.plot(n_estimators,rmse,c = 'red') \n",
    "plt.title('learning curve for n_estimators')\n",
    "plt.show()  "
   ]
  },
  {
   "cell_type": "markdown",
   "id": "a4cf1842",
   "metadata": {
    "ExecuteTime": {
     "end_time": "2022-08-05T13:38:17.552506Z",
     "start_time": "2022-08-05T13:38:17.549626Z"
    }
   },
   "source": [
    "since we find the best parameters for xgboost model </br> \n",
    "n_estimators = 240, learning_rate = 0.1,random_state = 420, subsample = 0.631578947368421 </br> \n",
    "rmse = 25846.64660483385"
   ]
  },
  {
   "cell_type": "markdown",
   "id": "5a0abfd3",
   "metadata": {},
   "source": [
    "### Prediction "
   ]
  },
  {
   "cell_type": "code",
   "execution_count": 51,
   "id": "2d774304-cb32-4b3f-9ccc-1a6e8b442f2e",
   "metadata": {
    "ExecuteTime": {
     "end_time": "2022-08-05T20:47:43.591224Z",
     "start_time": "2022-08-05T20:47:42.441395Z"
    }
   },
   "outputs": [],
   "source": [
    "# prediction \n",
    "Xtest= data_test.loc[:,data_test.columns !='SalePrice'].to_numpy()\n",
    "xgb = XGBRegressor(learning_rate = 0.1\n",
    "                    ,n_estimators = 240\n",
    "                   ,random_state = 420\n",
    "                   ,subsample =0.631578947368421).fit(X,y)  \n",
    "\n",
    "ypred = xgb.predict(Xtest) "
   ]
  },
  {
   "cell_type": "code",
   "execution_count": 52,
   "id": "8cabefe8",
   "metadata": {
    "ExecuteTime": {
     "end_time": "2022-08-05T20:47:43.598647Z",
     "start_time": "2022-08-05T20:47:43.593669Z"
    }
   },
   "outputs": [],
   "source": [
    "prediction_price = pd.DataFrame(data = {'Id':range(1461,2920),'SalePrice':ypred},index = None )"
   ]
  },
  {
   "cell_type": "code",
   "execution_count": 53,
   "id": "fddd55e3",
   "metadata": {
    "ExecuteTime": {
     "end_time": "2022-08-05T20:47:43.616162Z",
     "start_time": "2022-08-05T20:47:43.603773Z"
    }
   },
   "outputs": [
    {
     "data": {
      "text/html": [
       "<div>\n",
       "<style scoped>\n",
       "    .dataframe tbody tr th:only-of-type {\n",
       "        vertical-align: middle;\n",
       "    }\n",
       "\n",
       "    .dataframe tbody tr th {\n",
       "        vertical-align: top;\n",
       "    }\n",
       "\n",
       "    .dataframe thead th {\n",
       "        text-align: right;\n",
       "    }\n",
       "</style>\n",
       "<table border=\"1\" class=\"dataframe\">\n",
       "  <thead>\n",
       "    <tr style=\"text-align: right;\">\n",
       "      <th></th>\n",
       "      <th>Id</th>\n",
       "      <th>SalePrice</th>\n",
       "    </tr>\n",
       "  </thead>\n",
       "  <tbody>\n",
       "    <tr>\n",
       "      <th>0</th>\n",
       "      <td>1461</td>\n",
       "      <td>131691.671875</td>\n",
       "    </tr>\n",
       "    <tr>\n",
       "      <th>1</th>\n",
       "      <td>1462</td>\n",
       "      <td>156427.578125</td>\n",
       "    </tr>\n",
       "    <tr>\n",
       "      <th>2</th>\n",
       "      <td>1463</td>\n",
       "      <td>185234.031250</td>\n",
       "    </tr>\n",
       "    <tr>\n",
       "      <th>3</th>\n",
       "      <td>1464</td>\n",
       "      <td>185337.828125</td>\n",
       "    </tr>\n",
       "    <tr>\n",
       "      <th>4</th>\n",
       "      <td>1465</td>\n",
       "      <td>192670.296875</td>\n",
       "    </tr>\n",
       "    <tr>\n",
       "      <th>...</th>\n",
       "      <td>...</td>\n",
       "      <td>...</td>\n",
       "    </tr>\n",
       "    <tr>\n",
       "      <th>1454</th>\n",
       "      <td>2915</td>\n",
       "      <td>75108.492188</td>\n",
       "    </tr>\n",
       "    <tr>\n",
       "      <th>1455</th>\n",
       "      <td>2916</td>\n",
       "      <td>78086.789062</td>\n",
       "    </tr>\n",
       "    <tr>\n",
       "      <th>1456</th>\n",
       "      <td>2917</td>\n",
       "      <td>168149.140625</td>\n",
       "    </tr>\n",
       "    <tr>\n",
       "      <th>1457</th>\n",
       "      <td>2918</td>\n",
       "      <td>115060.070312</td>\n",
       "    </tr>\n",
       "    <tr>\n",
       "      <th>1458</th>\n",
       "      <td>2919</td>\n",
       "      <td>215331.406250</td>\n",
       "    </tr>\n",
       "  </tbody>\n",
       "</table>\n",
       "<p>1459 rows × 2 columns</p>\n",
       "</div>"
      ],
      "text/plain": [
       "        Id      SalePrice\n",
       "0     1461  131691.671875\n",
       "1     1462  156427.578125\n",
       "2     1463  185234.031250\n",
       "3     1464  185337.828125\n",
       "4     1465  192670.296875\n",
       "...    ...            ...\n",
       "1454  2915   75108.492188\n",
       "1455  2916   78086.789062\n",
       "1456  2917  168149.140625\n",
       "1457  2918  115060.070312\n",
       "1458  2919  215331.406250\n",
       "\n",
       "[1459 rows x 2 columns]"
      ]
     },
     "execution_count": 53,
     "metadata": {},
     "output_type": "execute_result"
    }
   ],
   "source": [
    "prediction_price "
   ]
  },
  {
   "cell_type": "code",
   "execution_count": 112,
   "id": "077fd558-6ac4-4f52-9584-4026326df4e2",
   "metadata": {
    "ExecuteTime": {
     "end_time": "2022-08-05T20:18:29.071337Z",
     "start_time": "2022-08-05T20:18:29.062518Z"
    }
   },
   "outputs": [],
   "source": [
    "#final export our result as csv file \n",
    "prediction_price.to_csv('Prediction for House Price.csv')"
   ]
  }
 ],
 "metadata": {
  "hide_input": false,
  "kernelspec": {
   "display_name": "Python 3.7.7 ('base')",
   "language": "python",
   "name": "python3"
  },
  "language_info": {
   "codemirror_mode": {
    "name": "ipython",
    "version": 3
   },
   "file_extension": ".py",
   "mimetype": "text/x-python",
   "name": "python",
   "nbconvert_exporter": "python",
   "pygments_lexer": "ipython3",
   "version": "3.7.7"
  },
  "latex_envs": {
   "LaTeX_envs_menu_present": true,
   "autoclose": false,
   "autocomplete": true,
   "bibliofile": "biblio.bib",
   "cite_by": "apalike",
   "current_citInitial": 1,
   "eqLabelWithNumbers": true,
   "eqNumInitial": 1,
   "hotkeys": {
    "equation": "Ctrl-E",
    "itemize": "Ctrl-I"
   },
   "labels_anchors": false,
   "latex_user_defs": false,
   "report_style_numbering": false,
   "user_envs_cfg": false
  },
  "nbTranslate": {
   "displayLangs": [
    "*"
   ],
   "hotkey": "alt-t",
   "langInMainMenu": true,
   "sourceLang": "en",
   "targetLang": "fr",
   "useGoogleTranslate": true
  },
  "toc": {
   "base_numbering": 1,
   "nav_menu": {},
   "number_sections": true,
   "sideBar": true,
   "skip_h1_title": false,
   "title_cell": "Table of Contents",
   "title_sidebar": "Contents",
   "toc_cell": false,
   "toc_position": {},
   "toc_section_display": true,
   "toc_window_display": false
  },
  "vscode": {
   "interpreter": {
    "hash": "cd78fef2128015050713e82ca51c6520b11aee7c9ee8df750520bbbc7384cbaa"
   }
  }
 },
 "nbformat": 4,
 "nbformat_minor": 5
}
